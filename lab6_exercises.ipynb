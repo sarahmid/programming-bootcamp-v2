{
 "cells": [
  {
   "cell_type": "markdown",
   "metadata": {},
   "source": [
    "# Programming Bootcamp 2016\n",
    "# Lesson 6 Exercises\n",
    "---"
   ]
  },
  {
   "cell_type": "markdown",
   "metadata": {},
   "source": [
    "** Earning points (optional) **\n",
    "\n",
    "- Enter your name below.\n",
    "- Email your `.ipynb` file to me (sarahmid@mail.med.upenn.edu) **before 9:00 am on 9/27**. \n",
    "- You do not need to complete all the problems to get points. \n",
    "- I will give partial credit for effort when possible.\n",
    "- At the end of the course, everyone who gets at least 90% of the total points will get a prize (bootcamp mug!)."
   ]
  },
  {
   "cell_type": "markdown",
   "metadata": {},
   "source": [
    "**Name**: "
   ]
  },
  {
   "cell_type": "markdown",
   "metadata": {},
   "source": [
    "---\n",
    "## 1. Guess the output: scope practice (2pts)\n",
    "\n",
    "Refer to the code below to answer the following questions:"
   ]
  },
  {
   "cell_type": "code",
   "execution_count": null,
   "metadata": {
    "collapsed": true
   },
   "outputs": [],
   "source": [
    "def fancy_calc(a, b, c):\n",
    "    x1 = basic_calc(a,b)\n",
    "    x2 = basic_calc(b,c)\n",
    "    x3 = basic_calc(c,a)\n",
    "    z = x1 * x2 * x3\n",
    "    return z\n",
    "\n",
    "def basic_calc(x, y):\n",
    "    result = x + y\n",
    "    return result\n",
    "\n",
    "x = 1\n",
    "y = 2\n",
    "z = 3\n",
    "result = fancy_calc(x, y, z)"
   ]
  },
  {
   "cell_type": "markdown",
   "metadata": {},
   "source": [
    "**(A)** List the line numbers of the code above in the order that they will be **executed**. If a line will be executed more than once, list it each time. \n",
    "\n",
    "**NOTE**: Select the cell above and hit \"L\" to activate line numbering!"
   ]
  },
  {
   "cell_type": "markdown",
   "metadata": {},
   "source": [
    "Your answer:"
   ]
  },
  {
   "cell_type": "markdown",
   "metadata": {},
   "source": [
    "**(B)** Guess the output if you were to run each of the following pieces of code immediately after running the code above. Then run the code to see if you're right. (Remember to run the code above first)"
   ]
  },
  {
   "cell_type": "code",
   "execution_count": null,
   "metadata": {
    "collapsed": true
   },
   "outputs": [],
   "source": [
    "print x"
   ]
  },
  {
   "cell_type": "markdown",
   "metadata": {},
   "source": [
    "Your guess: "
   ]
  },
  {
   "cell_type": "markdown",
   "metadata": {},
   "source": [
    " "
   ]
  },
  {
   "cell_type": "code",
   "execution_count": null,
   "metadata": {
    "collapsed": true
   },
   "outputs": [],
   "source": [
    "print z"
   ]
  },
  {
   "cell_type": "markdown",
   "metadata": {},
   "source": [
    "Your guess: "
   ]
  },
  {
   "cell_type": "markdown",
   "metadata": {},
   "source": [
    " "
   ]
  },
  {
   "cell_type": "code",
   "execution_count": null,
   "metadata": {
    "collapsed": true
   },
   "outputs": [],
   "source": [
    "print x1"
   ]
  },
  {
   "cell_type": "markdown",
   "metadata": {},
   "source": [
    "Your guess: "
   ]
  },
  {
   "cell_type": "markdown",
   "metadata": {},
   "source": [
    " "
   ]
  },
  {
   "cell_type": "code",
   "execution_count": null,
   "metadata": {
    "collapsed": true
   },
   "outputs": [],
   "source": [
    "print result"
   ]
  },
  {
   "cell_type": "markdown",
   "metadata": {},
   "source": [
    "Your guess: "
   ]
  },
  {
   "cell_type": "markdown",
   "metadata": {},
   "source": [
    " "
   ]
  },
  {
   "cell_type": "markdown",
   "metadata": {},
   "source": [
    "---\n",
    "## 2. Data structure woes (2pt)\n",
    "\n",
    "**(A) Passing a data structure to a function.** Guess the output of the following lines of code if you were to run them immediately following the code block below. Then run the code yourself to see if you're right."
   ]
  },
  {
   "cell_type": "code",
   "execution_count": null,
   "metadata": {
    "collapsed": true
   },
   "outputs": [],
   "source": [
    "# run this first!\n",
    "\n",
    "def getMax(someList):\n",
    "    someList.sort()\n",
    "    x = someList[-1]\n",
    "    return x\n",
    "\n",
    "scores = [9, 5, 7, 1, 8]\n",
    "maxScore = getMax(scores)"
   ]
  },
  {
   "cell_type": "code",
   "execution_count": null,
   "metadata": {
    "collapsed": true
   },
   "outputs": [],
   "source": [
    "print maxScore"
   ]
  },
  {
   "cell_type": "markdown",
   "metadata": {},
   "source": [
    "Your guess: "
   ]
  },
  {
   "cell_type": "markdown",
   "metadata": {},
   "source": [
    " "
   ]
  },
  {
   "cell_type": "code",
   "execution_count": null,
   "metadata": {
    "collapsed": true
   },
   "outputs": [],
   "source": [
    "print someList"
   ]
  },
  {
   "cell_type": "markdown",
   "metadata": {},
   "source": [
    "Your guess: "
   ]
  },
  {
   "cell_type": "markdown",
   "metadata": {},
   "source": [
    " "
   ]
  },
  {
   "cell_type": "code",
   "execution_count": null,
   "metadata": {
    "collapsed": true
   },
   "outputs": [],
   "source": [
    "print scores"
   ]
  },
  {
   "cell_type": "markdown",
   "metadata": {},
   "source": [
    "Your guess: "
   ]
  },
  {
   "cell_type": "markdown",
   "metadata": {},
   "source": [
    " "
   ]
  },
  {
   "cell_type": "markdown",
   "metadata": {},
   "source": [
    "> Why does scores get sorted? \n",
    "\n",
    "> When you pass a data structure as a parameter to a function, it's not a **copy** of the data structure that gets passed (as what happens with regular variables). What gets passed is a **direct reference** to the data structure itself. \n",
    "\n",
    "> The reason this is done is because data structures are typically expected to be fairly large, and copying/re-assigning the whole thing can be both time- and memory-consuming. So doing things this way is more efficient. It can also surprise you, though, if you're not aware it's happening. If you would like to learn more about this, look up \"Pass by reference vs pass by value\"."
   ]
  },
  {
   "cell_type": "markdown",
   "metadata": {},
   "source": [
    "**(B) Copying data structures.** Guess the output of the following code if you were to run them immediately following the code block below. Then run the code yourself to see if you're right."
   ]
  },
  {
   "cell_type": "code",
   "execution_count": null,
   "metadata": {
    "collapsed": false
   },
   "outputs": [],
   "source": [
    "# run this first!\n",
    "list1 = [1, 2, 3, 4]\n",
    "list2 = list1\n",
    "list2[0] = \"HELLO\""
   ]
  },
  {
   "cell_type": "code",
   "execution_count": null,
   "metadata": {
    "collapsed": true
   },
   "outputs": [],
   "source": [
    "print list2"
   ]
  },
  {
   "cell_type": "markdown",
   "metadata": {},
   "source": [
    "Your guess: "
   ]
  },
  {
   "cell_type": "markdown",
   "metadata": {},
   "source": [
    " "
   ]
  },
  {
   "cell_type": "code",
   "execution_count": null,
   "metadata": {
    "collapsed": true
   },
   "outputs": [],
   "source": [
    "print list1"
   ]
  },
  {
   "cell_type": "markdown",
   "metadata": {},
   "source": [
    "Your guess: "
   ]
  },
  {
   "cell_type": "markdown",
   "metadata": {},
   "source": [
    " "
   ]
  },
  {
   "cell_type": "markdown",
   "metadata": {},
   "source": [
    "> Yes, that's right--even when you try to make a new copy of a list, it's actually just a reference to the same list! This is called aliasing. The same thing will happen with a dictionary. This can really trip you up if you don't know it's happening."
   ]
  },
  {
   "cell_type": "markdown",
   "metadata": {},
   "source": [
    "So what if we want to make a truly separate copy? Here's a way for lists:"
   ]
  },
  {
   "cell_type": "code",
   "execution_count": null,
   "metadata": {
    "collapsed": false
   },
   "outputs": [],
   "source": [
    "# for lists\n",
    "list1 = [1, 2, 3, 4]\n",
    "list2 = list(list1) #make a true copy of the list\n",
    "list2[0] = \"HELLO\"\n",
    "\n",
    "print list2\n",
    "print list1"
   ]
  },
  {
   "cell_type": "markdown",
   "metadata": {},
   "source": [
    "And here's a way for dictionaries:"
   ]
  },
  {
   "cell_type": "code",
   "execution_count": null,
   "metadata": {
    "collapsed": false
   },
   "outputs": [],
   "source": [
    "# for dictionaries\n",
    "dict1 = {'A':1, 'B':2, 'C':3}\n",
    "dict2 = dict1.copy() #make a true copy of the dict\n",
    "dict2['A'] = 99\n",
    "\n",
    "print dict2\n",
    "print dict1"
   ]
  },
  {
   "cell_type": "markdown",
   "metadata": {},
   "source": [
    "---\n",
    "## 3. Writing custom functions (8pts)\n",
    "\n",
    "Complete the following. For some of these problems, you can use your code from previous labs as a starting point. \n",
    "\n",
    "(If you didn't finish those problems, feel free to use the code from the answer sheet, just make sure you understand how they work! Optionally, for extra practice you can try re-writing them using some of the new things we've learned since then.)"
   ]
  },
  {
   "cell_type": "markdown",
   "metadata": {},
   "source": [
    "**(A)** (1pt) Create a function called \"gc\" that takes a single sequence as a parameter and returns the GC content of the sequence (as a 2 decimal place float)."
   ]
  },
  {
   "cell_type": "code",
   "execution_count": null,
   "metadata": {
    "collapsed": true
   },
   "outputs": [],
   "source": []
  },
  {
   "cell_type": "markdown",
   "metadata": {},
   "source": [
    "**(B)** (1pt) Create a function called \"reverse_compl\" that takes a single sequence as a parameter and returns the reverse complement."
   ]
  },
  {
   "cell_type": "code",
   "execution_count": null,
   "metadata": {
    "collapsed": true
   },
   "outputs": [],
   "source": []
  },
  {
   "cell_type": "markdown",
   "metadata": {},
   "source": [
    "**(C)** (1pt) Create a function called \"read_fasta\" that takes a file name as a parameter (which is assumed to be in fasta format), puts each fasta entry into a dictionary (using the header line as a key and the sequence as a value), and then returns the dictionary."
   ]
  },
  {
   "cell_type": "code",
   "execution_count": null,
   "metadata": {
    "collapsed": true
   },
   "outputs": [],
   "source": []
  },
  {
   "cell_type": "markdown",
   "metadata": {},
   "source": [
    "**(D)** (2pts) Create a function called \"rand_seq\" that takes an integer length as a parameter, and then returns a random DNA sequence of that length. \n",
    "\n",
    "*Hint: make a list of the possible nucleotides*"
   ]
  },
  {
   "cell_type": "code",
   "execution_count": null,
   "metadata": {
    "collapsed": true
   },
   "outputs": [],
   "source": []
  },
  {
   "cell_type": "markdown",
   "metadata": {},
   "source": [
    "**(E)** (2pts) Create a function called \"shuffle_nt\" that takes a single sequence as a parameter and returns a string that is a shuffled version of the sequence (i.e. the same nucleotides, but in a random order). \n",
    "\n",
    "*Hint: Look for Python functions that will make this easier. For example, the `random` module has some functions for shuffling. There may also be some built-in string functions that are useful. However, you can also do this just using things we've learned.*"
   ]
  },
  {
   "cell_type": "code",
   "execution_count": null,
   "metadata": {
    "collapsed": true
   },
   "outputs": [],
   "source": []
  },
  {
   "cell_type": "markdown",
   "metadata": {},
   "source": [
    "**(F)** (1pt) Run the code below to show that all of your functions work. Try to fix any that have problems."
   ]
  },
  {
   "cell_type": "code",
   "execution_count": null,
   "metadata": {
    "collapsed": false
   },
   "outputs": [],
   "source": [
    "##### testing gc\n",
    "gcCont = gc(\"ATGGGCCCAATGG\")\n",
    "\n",
    "if type(gcCont) != float:\n",
    "    print \">> Problem with gc: answer is not a float, it is a %s.\" % type(gcCont)\n",
    "elif gcCont != 0.62:\n",
    "    print \">> Problem with gc: incorrect answer (should be 0.62; your code gave\", gcCont, \")\"      \n",
    "else:\n",
    "    print \"gc: Passed.\"\n",
    "\n",
    "\n",
    "##### testing reverse_compl\n",
    "revCompl = reverse_compl(\"GGGGTCGATGCAAATTCAAA\")\n",
    "\n",
    "if type(revCompl) != str:\n",
    "        print \">> Problem with reverse_compl: answer is not a string, it is a %s.\" % type(revCompl)  \n",
    "elif revCompl != \"TTTGAATTTGCATCGACCCC\":\n",
    "    print \">> Problem with reverse_compl: answer (%s) does not match expected (%s)\" % (revCompl, \"TTTGAATTTGCATCGACCCC\")         \n",
    "else:\n",
    "    print \"reverse_compl: Passed.\"\n",
    "    \n",
    "\n",
    "##### testing read_fasta\n",
    "try:\n",
    "    ins = open(\"horrible.fasta\", 'r')\n",
    "except IOError:\n",
    "    print \">> Can not test read_fasta because horrible.fasta is missing. Please add it to the directory with this notebook.\"\n",
    "else:\n",
    "    seqDict = read_fasta(\"horrible.fasta\")\n",
    "    \n",
    "    if type(seqDict) != dict:\n",
    "        print \">> Problem with read_fasta: answer is not a dictionary, it is a %s.\" % type(seqDict)\n",
    "    elif len(seqDict) != 22:\n",
    "        print \">> Problem with read_fasta: # of keys in dictionary (%s) does not match expected (%s)\" % (len(seqDict), 22)\n",
    "    else:\n",
    "        print \"read_fasta: Passed.\"\n",
    "\n",
    "\n",
    "##### testing rand_seq\n",
    "randSeq1 = rand_seq(23)\n",
    "randSeq2 = rand_seq(23)\n",
    "\n",
    "if type(randSeq1) != str:\n",
    "    print \">> Problem with rand_seq: answer is not a string, it is a %s.\" % type(randSeq1)\n",
    "elif len(randSeq1) != 23:\n",
    "    print \">> Problem with rand_seq: answer length (%s) does not match expected (%s).\" % (len(randSeq1), 23)\n",
    "elif randSeq1 == randSeq2:\n",
    "    print \">> Problem with rand_seq: generated the same sequence twice (%s) -- are you sure this is random?\" % randSeq1\n",
    "else:\n",
    "    print \"rand_seq: Passed.\"\n",
    "\n",
    "\n",
    "##### testing shuffle_nt\n",
    "shuffSeq = shuffle_nt(\"AAAAAAGTTTCCC\")\n",
    "\n",
    "if type(shuffSeq) != str:\n",
    "    print \">> Problem with shuffle_nt: answer is not a string, it is a %s.\" % type(shuffSeq)\n",
    "elif len(shuffSeq) != 13:\n",
    "    print \">> Problem with shuffle_nt: answer length (%s) does not match expected (%s).\" % (len(shuffSeq), 12)\n",
    "elif shuffSeq == \"AAAAAAGTTTCCC\":\n",
    "    print \">> Problem with shuffle_nt: answer is exactly the same as the input. Are you sure this is shuffling?\"\n",
    "elif shuffSeq.count('A') != 6:\n",
    "    print \">> Problem with shuffle_nt: answer doesn't contain the same # of each nt as the input.\"\n",
    "else:\n",
    "    print \"shuff_seq: Passed.\""
   ]
  },
  {
   "cell_type": "markdown",
   "metadata": {},
   "source": [
    "---\n",
    "## 4. Using your functions (5pts)\n",
    "\n",
    "Use the **functions you created above** to complete the following."
   ]
  },
  {
   "cell_type": "markdown",
   "metadata": {},
   "source": [
    "**(A)** (1pt) Create 20 random nucleotide sequences of length 50 and print them to the screen."
   ]
  },
  {
   "cell_type": "code",
   "execution_count": null,
   "metadata": {
    "collapsed": true
   },
   "outputs": [],
   "source": []
  },
  {
   "cell_type": "markdown",
   "metadata": {},
   "source": [
    "**(B)** (1pt) Read in `horrible.fasta` into a dictionary. For each sequence, print its reverse complement to the screen."
   ]
  },
  {
   "cell_type": "code",
   "execution_count": null,
   "metadata": {
    "collapsed": true
   },
   "outputs": [],
   "source": []
  },
  {
   "cell_type": "markdown",
   "metadata": {},
   "source": [
    "**(C)** (3pts) Read in horrible.fasta into a dictionary. For each sequence, find the length and the gc content. Print the results to the screen in the following format:\n",
    "```\n",
    "SeqID    Len    GC\n",
    "...      ...    ...\n",
    "```\n",
    "That is, print the header shown above (separating each column's title by a tab (`\\t`)), followed by the corresponding info about each sequence on a separate line. The \"columns\" should be separated by tabs. Remember that you can do this printing as you loop through the dictionary... that way you don't have to store the length and gc content.\n",
    "\n",
    "(In general, this is the sort of formatting you should use when printing data files!)"
   ]
  },
  {
   "cell_type": "code",
   "execution_count": null,
   "metadata": {
    "collapsed": true
   },
   "outputs": [],
   "source": []
  },
  {
   "cell_type": "markdown",
   "metadata": {},
   "source": [
    "---\n",
    "## Bonus question: K-mer generation (+2 bonus points)\n",
    "\n",
    "This question is optional, but if you complete it, I'll give you two bonus points. You won't lose points if you skip it.\n",
    "\n",
    "Create a function called `get_kmers` that takes a single integer parameter, `k`, and returns a list of all possible k-mers of A/T/G/C. For example, if the supplied `k` was 2, you would generate all possible 2-mers, i.e. [AA, AT, AG, AC, TA, TT, TG, TC, GA, GT, GG, GC, CA, CT, CG, CC]. \n",
    "\n",
    "Notes:\n",
    "- This function must be *generic*, in the sense that it can take *any* integer value of `k` and produce the corresponding set of k-mers.\n",
    "- As there are $4^k$ possible k-mers for a given k, stick to smaller values of k for testing!!\n",
    "- I have not really taught you any particularly obvious way to solve this problem, so feel free to get creative in your solution!\n",
    "\n",
    "*There are many ways to do this, and plenty of examples online. Since the purpose of this question is to practice problem solving, don't directly look up \"k-mer generation\"... try to figure it out yourself. You're free to look up more generic things, though.*"
   ]
  },
  {
   "cell_type": "code",
   "execution_count": null,
   "metadata": {
    "collapsed": true
   },
   "outputs": [],
   "source": [
    "def get_kmers(k):\n",
    "    kmers = []\n",
    "\n",
    "    # your code here\n",
    "\n",
    "    return kmers"
   ]
  },
  {
   "cell_type": "markdown",
   "metadata": {},
   "source": [
    "---\n",
    "\n",
    "---\n",
    "## Extra problems (0pts)\n"
   ]
  },
  {
   "cell_type": "markdown",
   "metadata": {},
   "source": [
    "**(A)** Create a function that counts the number of occurences of each nt in a specified string. Your function should accept a nucleotide string as a parameter, and should return a dictionary with the counts of each nucleotide (where the nt is the key and the count is the value)."
   ]
  },
  {
   "cell_type": "code",
   "execution_count": null,
   "metadata": {
    "collapsed": true
   },
   "outputs": [],
   "source": []
  },
  {
   "cell_type": "markdown",
   "metadata": {},
   "source": [
    "**(B)** Create a function that generates a random nt sequence of a specified length with specified nt frequencies. Your function should accept as parameters: \n",
    "- a length\n",
    "- a dictionary of nt frequences.\n",
    "\n",
    "and should return the generated string. You'll need to figure out a way to use the supplied frequencies to generate the sequence.\n",
    "\n",
    "An example of the nt freq dictionary could be: {'A':0.60, 'G':0.10, 'C':0.25, 'T':0.05}"
   ]
  },
  {
   "cell_type": "code",
   "execution_count": null,
   "metadata": {
    "collapsed": true
   },
   "outputs": [],
   "source": []
  }
 ],
 "metadata": {
  "kernelspec": {
   "display_name": "Python [Root]",
   "language": "python",
   "name": "Python [Root]"
  },
  "language_info": {
   "codemirror_mode": {
    "name": "ipython",
    "version": 2
   },
   "file_extension": ".py",
   "mimetype": "text/x-python",
   "name": "python",
   "nbconvert_exporter": "python",
   "pygments_lexer": "ipython2",
   "version": "2.7.12"
  }
 },
 "nbformat": 4,
 "nbformat_minor": 0
}
