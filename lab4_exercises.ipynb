{
 "cells": [
  {
   "cell_type": "markdown",
   "metadata": {},
   "source": [
    "# Programming Bootcamp 2016\n",
    "# Lesson 4 Exercises\n",
    "---"
   ]
  },
  {
   "cell_type": "markdown",
   "metadata": {},
   "source": [
    "** Earning points (optional) **\n",
    "\n",
    "- Enter your name below.\n",
    "- Email your `.ipynb` file to me (sarahmid@mail.med.upenn.edu) **before 9:00 am on 9/20**. \n",
    "- You do not need to complete all the problems to get points. \n",
    "- I will give partial credit for effort when possible.\n",
    "- At the end of the course, everyone who gets at least 90% of the total points will get a prize (bootcamp mug!)."
   ]
  },
  {
   "cell_type": "markdown",
   "metadata": {},
   "source": [
    "**Name**: "
   ]
  },
  {
   "cell_type": "markdown",
   "metadata": {},
   "source": [
    "---\n",
    "## 1. Guess the output: list practice (1pt)\n",
    "\n",
    "For the following blocks of code, first try to guess what the output will be, and then run the code yourself. Points will be given for filling in the guesses; guessing wrong won't be penalized."
   ]
  },
  {
   "cell_type": "code",
   "execution_count": null,
   "metadata": {
    "collapsed": true
   },
   "outputs": [],
   "source": [
    "ages = [65, 34, 96, 47]\n",
    "\n",
    "print len(ages)"
   ]
  },
  {
   "cell_type": "markdown",
   "metadata": {},
   "source": [
    "Your guess: "
   ]
  },
  {
   "cell_type": "markdown",
   "metadata": {},
   "source": [
    " "
   ]
  },
  {
   "cell_type": "code",
   "execution_count": null,
   "metadata": {
    "collapsed": true
   },
   "outputs": [],
   "source": [
    "names = [\"Wilfred\", \"Manfred\", \"Wadsworth\", \"Jeeves\"]\n",
    "ages = [65, 34, 96, 47]\n",
    "\n",
    "print len(ages) == len(names)"
   ]
  },
  {
   "cell_type": "markdown",
   "metadata": {},
   "source": [
    "Your guess: "
   ]
  },
  {
   "cell_type": "markdown",
   "metadata": {},
   "source": [
    " "
   ]
  },
  {
   "cell_type": "code",
   "execution_count": null,
   "metadata": {
    "collapsed": true
   },
   "outputs": [],
   "source": [
    "ages = [65, 34, 96, 47]\n",
    "\n",
    "for hippopotamus in ages:\n",
    "    print hippopotamus"
   ]
  },
  {
   "cell_type": "markdown",
   "metadata": {},
   "source": [
    "Your guess: "
   ]
  },
  {
   "cell_type": "markdown",
   "metadata": {},
   "source": [
    " "
   ]
  },
  {
   "cell_type": "code",
   "execution_count": null,
   "metadata": {
    "collapsed": true
   },
   "outputs": [],
   "source": [
    "ages = [65, 34, 96, 47]\n",
    "\n",
    "print ages[1:3]"
   ]
  },
  {
   "cell_type": "markdown",
   "metadata": {},
   "source": [
    "Your guess: "
   ]
  },
  {
   "cell_type": "markdown",
   "metadata": {},
   "source": [
    " "
   ]
  },
  {
   "cell_type": "code",
   "execution_count": null,
   "metadata": {
    "collapsed": true
   },
   "outputs": [],
   "source": [
    "names = [\"Wilfred\", \"Manfred\", \"Wadsworth\", \"Jeeves\"]\n",
    "\n",
    "if \"Willard\" not in names:\n",
    "    names.append(\"Willard\")\n",
    "print names"
   ]
  },
  {
   "cell_type": "markdown",
   "metadata": {},
   "source": [
    "Your guess: "
   ]
  },
  {
   "cell_type": "markdown",
   "metadata": {},
   "source": [
    " "
   ]
  },
  {
   "cell_type": "code",
   "execution_count": null,
   "metadata": {
    "collapsed": true
   },
   "outputs": [],
   "source": [
    "names = [\"Wilfred\", \"Manfred\", \"Wadsworth\", \"Jeeves\"]\n",
    "ages = [65, 34, 96, 47]\n",
    "\n",
    "for i in range(len(names)):\n",
    "    print names[i],\"is\",ages[i]"
   ]
  },
  {
   "cell_type": "markdown",
   "metadata": {},
   "source": [
    "Your guess: "
   ]
  },
  {
   "cell_type": "markdown",
   "metadata": {},
   "source": [
    " "
   ]
  },
  {
   "cell_type": "code",
   "execution_count": null,
   "metadata": {
    "collapsed": true
   },
   "outputs": [],
   "source": [
    "ages = [65, 34, 96, 47]\n",
    "\n",
    "ages.sort()\n",
    "print ages"
   ]
  },
  {
   "cell_type": "markdown",
   "metadata": {},
   "source": [
    "Your guess: "
   ]
  },
  {
   "cell_type": "markdown",
   "metadata": {},
   "source": [
    " "
   ]
  },
  {
   "cell_type": "code",
   "execution_count": null,
   "metadata": {
    "collapsed": false
   },
   "outputs": [],
   "source": [
    "ages = [65, 34, 96, 47]\n",
    "\n",
    "ages = ages.sort()\n",
    "print ages"
   ]
  },
  {
   "cell_type": "markdown",
   "metadata": {},
   "source": [
    "Your guess: "
   ]
  },
  {
   "cell_type": "markdown",
   "metadata": {},
   "source": [
    " "
   ]
  },
  {
   "cell_type": "markdown",
   "metadata": {},
   "source": [
    "> Remember that `.sort()` is an in-place function. Its return value is \"None\". (This is a special value in Python that basically means \"null\". It's used as a placeholder sometimes when we don't want to give something a value.)"
   ]
  },
  {
   "cell_type": "code",
   "execution_count": null,
   "metadata": {
    "collapsed": true
   },
   "outputs": [],
   "source": [
    "ages = [65, 34, 96, 47]\n",
    "\n",
    "print max(ages)"
   ]
  },
  {
   "cell_type": "markdown",
   "metadata": {},
   "source": [
    "Your guess: "
   ]
  },
  {
   "cell_type": "markdown",
   "metadata": {},
   "source": [
    " "
   ]
  },
  {
   "cell_type": "code",
   "execution_count": null,
   "metadata": {
    "collapsed": true
   },
   "outputs": [],
   "source": [
    "cat = \"Mitsworth\"\n",
    "\n",
    "for i in range(len(cat)):\n",
    "    print cat[i]"
   ]
  },
  {
   "cell_type": "markdown",
   "metadata": {},
   "source": [
    "Your guess: "
   ]
  },
  {
   "cell_type": "markdown",
   "metadata": {},
   "source": [
    " "
   ]
  },
  {
   "cell_type": "code",
   "execution_count": null,
   "metadata": {
    "collapsed": true
   },
   "outputs": [],
   "source": [
    "cat = \"Mitsworth\"\n",
    "\n",
    "print cat[:4]"
   ]
  },
  {
   "cell_type": "markdown",
   "metadata": {},
   "source": [
    "Your guess: "
   ]
  },
  {
   "cell_type": "markdown",
   "metadata": {},
   "source": [
    " "
   ]
  },
  {
   "cell_type": "code",
   "execution_count": null,
   "metadata": {
    "collapsed": true
   },
   "outputs": [],
   "source": [
    "str1 = \"Good morning, Mr. Mitsworth.\"\n",
    "\n",
    "parts = str1.split()\n",
    "print parts\n",
    "print str1"
   ]
  },
  {
   "cell_type": "markdown",
   "metadata": {},
   "source": [
    "Your guess: "
   ]
  },
  {
   "cell_type": "markdown",
   "metadata": {},
   "source": [
    " "
   ]
  },
  {
   "cell_type": "code",
   "execution_count": null,
   "metadata": {
    "collapsed": true
   },
   "outputs": [],
   "source": [
    "str1 = \"Good morning, Mr. Mitsworth.\"\n",
    "\n",
    "parts = str1.split(\",\")\n",
    "print parts"
   ]
  },
  {
   "cell_type": "markdown",
   "metadata": {},
   "source": [
    "Your guess: "
   ]
  },
  {
   "cell_type": "markdown",
   "metadata": {},
   "source": [
    " "
   ]
  },
  {
   "cell_type": "code",
   "execution_count": null,
   "metadata": {
    "collapsed": true
   },
   "outputs": [],
   "source": [
    "names = [\"Wilfred\", \"Manfred\", \"Wadsworth\", \"Jeeves\"]\n",
    "\n",
    "print names[-1]"
   ]
  },
  {
   "cell_type": "markdown",
   "metadata": {},
   "source": [
    "Your guess: "
   ]
  },
  {
   "cell_type": "markdown",
   "metadata": {},
   "source": [
    " "
   ]
  },
  {
   "cell_type": "code",
   "execution_count": null,
   "metadata": {
    "collapsed": true
   },
   "outputs": [],
   "source": [
    "oldList = [2, 2, 6, 1, 2, 6]\n",
    "newList = []\n",
    "\n",
    "for item in oldList:\n",
    "    if item not in newList:\n",
    "        newList.append(item)\n",
    "print newList"
   ]
  },
  {
   "cell_type": "markdown",
   "metadata": {},
   "source": [
    "Your guess: "
   ]
  },
  {
   "cell_type": "markdown",
   "metadata": {},
   "source": [
    " "
   ]
  },
  {
   "cell_type": "markdown",
   "metadata": {},
   "source": [
    "---\n",
    "## 2. On your own: Lists (3pts)\n",
    "\n",
    "Write code to accomplish each of the following tasks **using list functions**. Do not copy and paste the list to make changes. ***You must pretend you don't know what's in the list.***"
   ]
  },
  {
   "cell_type": "code",
   "execution_count": null,
   "metadata": {
    "collapsed": true
   },
   "outputs": [],
   "source": [
    "# run this first!\n",
    "geneNames = [\"Ppia\", \"Gria2\", \"Mecp2\", \"Omd\", \"Zfp410\", \"Hsp1\", \"Mtap1a\", \"Cfl1\", \n",
    "             \"Slc25a40\", \"Dync1i1\", \"V1ra4\", \"Fmnl1\", \"Mtap2\", \"Atp5b\", \"Olfr259\", \n",
    "             \"Atf3\", \"Vapb\", \"Dhx8\", \"Slc22a15\", \"Orai3\", \"Ifitm7\", \"Kcna2\", \"Timm23\", \"Shank1\"]"
   ]
  },
  {
   "cell_type": "markdown",
   "metadata": {},
   "source": [
    "**(A)** (1pt) Replace the 12th element in `geneNames` with the string `\"Camk2a\"`."
   ]
  },
  {
   "cell_type": "code",
   "execution_count": null,
   "metadata": {
    "collapsed": true
   },
   "outputs": [],
   "source": []
  },
  {
   "cell_type": "markdown",
   "metadata": {},
   "source": [
    "**(B)** (1pt) Add the string `\"Shank3\"` to the end of the `geneNames` list."
   ]
  },
  {
   "cell_type": "code",
   "execution_count": null,
   "metadata": {
    "collapsed": true
   },
   "outputs": [],
   "source": []
  },
  {
   "cell_type": "markdown",
   "metadata": {},
   "source": [
    "**(C)** (1pt) Using a loop, print the elements in `geneNames` that start with \"S\" or \"O\"."
   ]
  },
  {
   "cell_type": "code",
   "execution_count": null,
   "metadata": {
    "collapsed": true
   },
   "outputs": [],
   "source": []
  },
  {
   "cell_type": "markdown",
   "metadata": {},
   "source": [
    "---\n",
    "## 3. On your own: Strings & Splitting (3pts)\n",
    "\n",
    "Write code to accomplish each of the following tasks **using string slicing and splitting**. "
   ]
  },
  {
   "cell_type": "markdown",
   "metadata": {},
   "source": [
    "**(A)** (1pt) Print characters 3-9 of the string stored in the variable `magicWords` using string slicing. (You should get \"acadabr\")"
   ]
  },
  {
   "cell_type": "code",
   "execution_count": null,
   "metadata": {
    "collapsed": true
   },
   "outputs": [],
   "source": [
    "magicWords = \"abracadabra\"\n"
   ]
  },
  {
   "cell_type": "markdown",
   "metadata": {},
   "source": [
    "**(B)** (1pt) Prompt the user to input a sentence using `raw_input()`. Print each word of their sentence on a separate line."
   ]
  },
  {
   "cell_type": "code",
   "execution_count": null,
   "metadata": {
    "collapsed": true
   },
   "outputs": [],
   "source": []
  },
  {
   "cell_type": "markdown",
   "metadata": {},
   "source": [
    "**(C)** (1pt) Using `raw_input()`, prompt the user to enter some good ideas for cat names (have them enter the names on one line, separating each name with a comma). Separate the names so that each one is a separate element of a list. Then choose one randomly (using the random module) and print it out."
   ]
  },
  {
   "cell_type": "code",
   "execution_count": null,
   "metadata": {
    "collapsed": true
   },
   "outputs": [],
   "source": []
  },
  {
   "cell_type": "markdown",
   "metadata": {},
   "source": [
    "---\n",
    "## 4. File reading and lists (3pts)\n",
    "\n",
    "For this problem, use the file `genes.txt` provided on Piazza. It contains some gene IDs, one on each line."
   ]
  },
  {
   "cell_type": "markdown",
   "metadata": {},
   "source": [
    "**(A)** (1pt) Read the file and print to the screen only the gene IDs that contain \"uc007\".\n",
    "\n",
    "**[ Check your answer ]** You should end up printing 14 gene IDs."
   ]
  },
  {
   "cell_type": "code",
   "execution_count": null,
   "metadata": {
    "collapsed": false
   },
   "outputs": [],
   "source": []
  },
  {
   "cell_type": "markdown",
   "metadata": {},
   "source": [
    "**(B)** (1 pt) Print to the screen only unique gene IDs (remove the duplicates). Do not assume repeat IDs appear consecutively in the file. \n",
    "\n",
    "*Hint: see problem 1 for an example of duplicate checking.*\n",
    "\n",
    "**[ Check your answer ]** You should end up printing 49 gene IDs."
   ]
  },
  {
   "cell_type": "code",
   "execution_count": null,
   "metadata": {
    "collapsed": false
   },
   "outputs": [],
   "source": []
  },
  {
   "cell_type": "markdown",
   "metadata": {},
   "source": [
    "**(C)** (1 pt) Print to the screen only the gene IDs that are still unique after removing the \".X\" suffix (where X is a number).\n",
    "\n",
    "**[ Check your answer ]** You should end up printing 46 gene IDs."
   ]
  },
  {
   "cell_type": "code",
   "execution_count": null,
   "metadata": {
    "collapsed": false
   },
   "outputs": [],
   "source": []
  },
  {
   "cell_type": "markdown",
   "metadata": {},
   "source": [
    "---\n",
    "## 5. Practice with `.split()` (4pts)\n",
    "\n",
    "Use `init_sites.txt` to complete the following. This file contains a subset of translation initiation sites in mouse, identified by Ingolia et al. (Cell, 2011). Note that this file has a header, which you will want to skip over."
   ]
  },
  {
   "cell_type": "markdown",
   "metadata": {},
   "source": [
    "**(A)** (2 pt) Write a script that reads this file and computes the average CDS length (i.e. average the values in the 7th column).\n",
    "\n",
    "**[ Check your answer ]** You should get an average of 236.36."
   ]
  },
  {
   "cell_type": "code",
   "execution_count": null,
   "metadata": {
    "collapsed": false
   },
   "outputs": [],
   "source": []
  },
  {
   "cell_type": "markdown",
   "metadata": {},
   "source": [
    "**(B)** (2 pt) Write a script that reads this file and prints the \"Init Context\" from each line (i.e. the 6th column) **if and only if** the \"Codon\" column (column 12) is \"aug\" for that line.\n",
    "\n",
    "**[ Check your answer ]** You should print 38 init contexts."
   ]
  },
  {
   "cell_type": "code",
   "execution_count": null,
   "metadata": {
    "collapsed": false
   },
   "outputs": [],
   "source": []
  },
  {
   "cell_type": "markdown",
   "metadata": {},
   "source": [
    "**(C)** (0 pt) For fun (?), copy and paste your output from (b) into http://weblogo.berkeley.edu/logo.cgi to create a motif logo of the sequence around these initiation sites. What positions/nt seem to be most common?"
   ]
  },
  {
   "cell_type": "markdown",
   "metadata": {},
   "source": [
    "Your answer: "
   ]
  },
  {
   "cell_type": "markdown",
   "metadata": {},
   "source": [
    "---\n",
    "## 6. Cross-referencing (4pts)\n",
    "\n",
    "Here you will extract and print the data from `init_sites.txt` that corresponds to genes with high expression. There isn't gene expression data in `init_sites.txt`, so we'll have to integrate information from another file.\n",
    "\n",
    "- First, use `gene_expr.txt` to create a list of genes with high expression. We'll say high expression is anything >= 50. \n",
    "- Then read through `init_sites.txt` and print the GeneName (2nd column) and PeakScore (11th column) from any line that matches an ID in your high-expression list. \n",
    "- Finally, separately compute the average PeakScore for high expression genes and non-high expression genes. Print both averages to the screen.\n",
    "\n",
    "**[ Check your answer ]** There should be 10 lines corresponding to high-expression genes that you print info about. Your average peak scores should be 4.371 and 4.39325 for high and non-high expression genes, respectively."
   ]
  },
  {
   "cell_type": "code",
   "execution_count": null,
   "metadata": {
    "collapsed": false
   },
   "outputs": [],
   "source": []
  },
  {
   "cell_type": "markdown",
   "metadata": {},
   "source": [
    "---\n",
    "## 7. All-against-all comparisons (4pts)\n",
    "\n",
    "A common situation that arises in data analysis is that we have a list of data points and we would like to compare each data point to each other data point. Here, we will write a script that computes the \"distance\" between each pair of strings in a file and outputs a distance matrix. We will define \"distance\" between two strings as the number of mismatches between two strings when they are lined up, divided by their length.\n",
    "\n",
    "First we'll use a toy dataset. We'll create a list as follows:\n",
    "```\n",
    "things = [1, 2, 5, 10, 25, 50]\n",
    "```\n",
    "We'll start off by doing a very simple type of pairwise comparison: taking the numerical difference between two numbers. To systematically do this for all possible pairs of numbers in our list, we can make a nested for loop:"
   ]
  },
  {
   "cell_type": "code",
   "execution_count": null,
   "metadata": {
    "collapsed": false
   },
   "outputs": [],
   "source": [
    "things = [1, 2, 5, 10, 25, 50]\n",
    "\n",
    "for i in range(len(things)):\n",
    "    for j in range(len(things)):\n",
    "        print abs(things[i] - things[j]) #absolute value of the difference"
   ]
  },
  {
   "cell_type": "markdown",
   "metadata": {},
   "source": [
    "Try running this code yourself and observe the output. Everything prints out on its own line, which isn't what we want -- we'd usually prefer a matrix-type format. Try this slightly modified code:"
   ]
  },
  {
   "cell_type": "code",
   "execution_count": null,
   "metadata": {
    "collapsed": false
   },
   "outputs": [],
   "source": [
    "things = [1, 2, 5, 10, 25, 50]\n",
    "\n",
    "for i in range(len(things)):\n",
    "    for j in range(len(things)):\n",
    "        print abs(things[i] - things[j]), \"\\t\",\n",
    "    print \"\""
   ]
  },
  {
   "cell_type": "markdown",
   "metadata": {},
   "source": [
    "This gives us the matrix format we want. Make sure you understand how this code works. FYI, the \"\\t\" is a tab character, and much like \"\\n\", it is invisible once it's printed (it becomes a tab). The comma at the very end of the `print` statement suppresses the \\n that `print` usually adds on to the end.\n",
    "\n",
    "So now we know how to do an all-against-all comparison. But how do we compute the number of mismatches between strings? As long as the strings are the same length, we can do something simple like the following:"
   ]
  },
  {
   "cell_type": "code",
   "execution_count": null,
   "metadata": {
    "collapsed": false
   },
   "outputs": [],
   "source": [
    "str1 = \"Wilfred\"\n",
    "str2 = \"Manfred\"\n",
    "diffs = 0\n",
    "\n",
    "for k in range(len(str1)):\n",
    "    if str1[k] != str2[k]: #compare the two strings at the same index\n",
    "        diffs = diffs + 1\n",
    "        \n",
    "print \"dist =\", round(float(diffs) / len(str1), 2)"
   ]
  },
  {
   "cell_type": "markdown",
   "metadata": {},
   "source": [
    "So this outputs the distance between the two strings, where the distance is defined as the fraction of the sequence length that is mismatched.\n",
    "\n",
    "**Using these two pieces of code as starting points, complete the following:**"
   ]
  },
  {
   "cell_type": "markdown",
   "metadata": {},
   "source": [
    "**(A)** (2 pt) Create a list of a few short strings *of the same length*. For example:\n",
    "```\n",
    "things = [\"bear\", \"pear\", \"boar\", \"tops\", \"bops\"]\n",
    "```\n",
    "Write code that prints a distance matrix for this list. As in the last example, use the fraction of mismatches between a given pair of words as the measure of their \"distance\" from each other. Round the distances to 2 decimals."
   ]
  },
  {
   "cell_type": "code",
   "execution_count": null,
   "metadata": {
    "collapsed": true
   },
   "outputs": [],
   "source": []
  },
  {
   "cell_type": "markdown",
   "metadata": {},
   "source": [
    "**(B)** (2 pt) Now, instead of using a hard coded list like you did in (A), create a list of DNA sequences by reading in the file `sequences2.txt`. Compute the distance matrix between these sequences and print the distance matrix. Looking at this matrix, do you see a pair of sequences that are much less \"distant\" from each other than all the rest?"
   ]
  },
  {
   "cell_type": "code",
   "execution_count": null,
   "metadata": {
    "collapsed": false,
    "scrolled": true
   },
   "outputs": [],
   "source": []
  },
  {
   "cell_type": "markdown",
   "metadata": {},
   "source": [
    "---\n",
    "\n",
    "---\n",
    "## Extra questions (0pts)\n",
    "\n",
    "These questions are for people who would like extra practice. They will not be counted for points."
   ]
  },
  {
   "cell_type": "markdown",
   "metadata": {},
   "source": [
    "**(A)** Following from problem 7 above: As you can see, the distance matrix you made in (B) is symmetrical around the diagonal. This means dist(i,j) is the same as dist(j,i), so we're doing some redundant calculations. \n",
    "\n",
    "Change the code so that we don't do any unnecessary calculations (including comparing a sequence to itself, which always is\n",
    "0). For any calculations you skip, you can print \"-\" or some other place-holder to keep the printed matrix looking neat. \n",
    "\n",
    "*Hint: There's a really simple way to do this! Think about the range of the second loop...*"
   ]
  },
  {
   "cell_type": "code",
   "execution_count": null,
   "metadata": {
    "collapsed": false
   },
   "outputs": [],
   "source": []
  },
  {
   "cell_type": "markdown",
   "metadata": {},
   "source": [
    "**(B)** Below is a loop that creates a list. Do the same thing but with a list comprehension instead."
   ]
  },
  {
   "cell_type": "code",
   "execution_count": null,
   "metadata": {
    "collapsed": false
   },
   "outputs": [],
   "source": [
    "# Loop version:\n",
    "import random\n",
    "randomNums = []\n",
    "\n",
    "for i in range(100):\n",
    "    randomNums.append(random.randint(0,10))\n",
    "    \n",
    "print randomNums"
   ]
  },
  {
   "cell_type": "code",
   "execution_count": null,
   "metadata": {
    "collapsed": true
   },
   "outputs": [],
   "source": [
    "# Your list comprehension version here:\n"
   ]
  },
  {
   "cell_type": "markdown",
   "metadata": {},
   "source": [
    "**(C)** Below is a loop that creates a list. Do the same thing but with a list comprehension instead."
   ]
  },
  {
   "cell_type": "code",
   "execution_count": null,
   "metadata": {
    "collapsed": false
   },
   "outputs": [],
   "source": [
    "# Loop version:\n",
    "import random\n",
    "randomNums = []\n",
    "\n",
    "for i in range(100):\n",
    "    randNum = random.randint(0,10)\n",
    "    if (randNum % 2) == 0:\n",
    "        randNumStr = str(randNum)\n",
    "        randomNums.append(randNumStr)\n",
    "    \n",
    "print randomNums"
   ]
  },
  {
   "cell_type": "code",
   "execution_count": null,
   "metadata": {
    "collapsed": true
   },
   "outputs": [],
   "source": [
    "# Your list comprehension version here:\n"
   ]
  }
 ],
 "metadata": {
  "kernelspec": {
   "display_name": "Python [Root]",
   "language": "python",
   "name": "Python [Root]"
  },
  "language_info": {
   "codemirror_mode": {
    "name": "ipython",
    "version": 2
   },
   "file_extension": ".py",
   "mimetype": "text/x-python",
   "name": "python",
   "nbconvert_exporter": "python",
   "pygments_lexer": "ipython2",
   "version": "2.7.12"
  }
 },
 "nbformat": 4,
 "nbformat_minor": 0
}
