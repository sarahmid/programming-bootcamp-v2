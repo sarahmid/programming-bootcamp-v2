{
 "cells": [
  {
   "cell_type": "markdown",
   "metadata": {},
   "source": [
    "# Programming Bootcamp 2016\n",
    "# Lesson 7 Exercises\n",
    "---"
   ]
  },
  {
   "cell_type": "markdown",
   "metadata": {},
   "source": [
    "## !!! This is the last graded problem set! And it's due early: 11pm on 9/29 !!!\n",
    "\n",
    "- Winners will be announced after the final lecture on 9/30, and mugs will be distributed then\n",
    "- If you earn a mug but can't attend, you can pick it up from me later. Send me an email to arrange a time."
   ]
  },
  {
   "cell_type": "markdown",
   "metadata": {},
   "source": [
    "---\n",
    "** Earning points (optional) **\n",
    "- Enter your name below.\n",
    "- Email your `.ipynb` file to me (sarahmid@mail.med.upenn.edu) ***before 11:00 pm on 9/29***. \n",
    "- You do not need to complete all the problems to get points. \n",
    "- I will give partial credit for effort when possible.\n",
    "- At the end of the course, everyone who gets at least 90% of the total points will get a prize (bootcamp mug!)."
   ]
  },
  {
   "cell_type": "markdown",
   "metadata": {},
   "source": [
    "**Name**: "
   ]
  },
  {
   "cell_type": "markdown",
   "metadata": {},
   "source": [
    "---\n",
    "## 1. Creating your function file (1pt)\n",
    "\n",
    "Up until now, we've created all of our functions inside the Jupyter notebook. However, in order to use your functions across different scripts, it's best to put them into a separate file. Then you can load this file from anywhere with a single line of code and have access to all your custom functions!\n",
    "\n",
    "**Do the following:**\n",
    "- Open up your plain-text editor. \n",
    "- Copy and paste all of the functions you created in lab6, question 3, into a blank file and save it as **my_utils.py** (don't forget the .py extension). Save it anywhere on your computer.\n",
    "- Edit the code below so that it imports your `my_utils.py` functions. You will need to change `'../utilities/my_utils.py'` to where you saved your file. \n",
    "\n",
    "Some notes:\n",
    "- You need to supply the path *relative to where this notebook is*. See the slides for some examples on how to specify paths.\n",
    "- You can use this method to import your functions from *anywhere* on your computer! In contrast, the regular `import` function will only find custom functions that are in the same directory as the current notebook/script."
   ]
  },
  {
   "cell_type": "code",
   "execution_count": null,
   "metadata": {
    "collapsed": false
   },
   "outputs": [],
   "source": [
    "import imp\n",
    "my_utils = imp.load_source('my_utils', '../utilities/my_utils.py') #CHANGE THIS PATH\n",
    "\n",
    "# test that this worked\n",
    "print \"Test my_utils.gc():\", my_utils.gc(\"ATGGGCCCAATGG\")\n",
    "print \"Test my_utils.reverse_compl():\", my_utils.reverse_compl(\"GGGGTCGATGCAAATTCAAA\")\n",
    "print \"Test my_utils.read_fasta():\", my_utils.read_fasta(\"horrible.fasta\")\n",
    "print \"Test my_utils.rand_seq():\", my_utils.rand_seq(23)\n",
    "print \"Test my_utils.shuffle_nt():\", my_utils.shuffle_nt(\"AAAAAAGTTTCCC\")\n",
    "\n",
    "print \"\\nIf the above produced no errors, then you're good!\""
   ]
  },
  {
   "cell_type": "markdown",
   "metadata": {},
   "source": [
    "Feel free to use these functions (and any others you've created) to solve the problems below. You can see in the test code above how they can be accessed."
   ]
  },
  {
   "cell_type": "markdown",
   "metadata": {},
   "source": [
    "---\n",
    "## 2. Command line arguments (6pts)\n",
    "\n",
    "**Note: Do the following in a SCRIPT, not in the notebook**. You can not use command line arguments within Jupyter notebooks.\n",
    "\n",
    "After testing your code as a script, copy and paste it here for grading purposes only."
   ]
  },
  {
   "cell_type": "markdown",
   "metadata": {},
   "source": [
    "**(A)** Write a script that expects 4 arguments, and prints those four arguments to the screen. Test this script by running it (on the command line) as shown in the lecture. Copy and paste the code below once you have it working."
   ]
  },
  {
   "cell_type": "code",
   "execution_count": null,
   "metadata": {
    "collapsed": true
   },
   "outputs": [],
   "source": []
  },
  {
   "cell_type": "markdown",
   "metadata": {},
   "source": [
    " "
   ]
  },
  {
   "cell_type": "markdown",
   "metadata": {},
   "source": [
    "**(B)** Write a script that expects 3 numerical arguments (\"a\", \"b\", and \"c\") from the command line.\n",
    "- Check that the correct number of arguments is supplied (based on the length of sys.argv)\n",
    "- If not, print an error message and exit\n",
    "- Otherwise, go on to add the three numbers together and print the result. \n",
    "\n",
    "Copy and paste your code below once you have it working.\n",
    "\n",
    "**Note: All command line arguments are read in as strings (just like with raw_input). To use them as numbers, you must convert them with float().**"
   ]
  },
  {
   "cell_type": "code",
   "execution_count": null,
   "metadata": {
    "collapsed": true
   },
   "outputs": [],
   "source": []
  },
  {
   "cell_type": "markdown",
   "metadata": {},
   "source": [
    " "
   ]
  },
  {
   "cell_type": "markdown",
   "metadata": {},
   "source": [
    "**(C)** Here you will create a script that generates a random dataset of sequences. \n",
    "\n",
    "**Your script should expect the following command line arguments, in this order. Remember to convert strings to ints when needed:**\n",
    "1. outFile - string; name of the output file the generated sequences will be printed to\n",
    "1. numSeqs - integer; number of sequences to create\n",
    "1. minLength - integer; minimum sequence length\n",
    "1. maxLength - integer; maximum sequence length\n",
    "\n",
    "The script should read in these arguments and check if the correct number of arguments is supplied (exit if not). \n",
    "\n",
    "**If all looks good, then print the indicated number of randomly generated sequences as follows:**\n",
    "- the length of each individual sequence should be randomly chosen to be between minLength and maxLength (so that not all sequences are the same length)\n",
    "- each sequence should be given a unique ID (e.g. using a counter to make names like seq1, seq2, ...)\n",
    "- the output should be in fasta format (>seqID\\nsequence\\n)\n",
    "- the output shold be printed to the indicated file\n",
    "\n",
    "Then, run your script to create a file called `fake.fasta` containing 100,000 random sequences of random length 50-500 nt.\n",
    "\n",
    "Copy and paste your code below once you have it working."
   ]
  },
  {
   "cell_type": "code",
   "execution_count": null,
   "metadata": {
    "collapsed": true
   },
   "outputs": [],
   "source": []
  },
  {
   "cell_type": "markdown",
   "metadata": {},
   "source": [
    "---\n",
    "## 3. `time` practice (7pts)\n",
    "\n",
    "For the following problems, use the file you created in the previous problem (`fake.fasta`) and the `time.time()` function. (Note: there is also a copy of `fake.fasta` on Piazza if you need it.)\n",
    "\n",
    "**Note: Do not include the time it takes to read the file in your time calculation! Loading files can take a while.**"
   ]
  },
  {
   "cell_type": "markdown",
   "metadata": {},
   "source": [
    "**(A) Initial practice with timing.** Add code to the following cell to time how long it takes to run. Print the result."
   ]
  },
  {
   "cell_type": "code",
   "execution_count": null,
   "metadata": {
    "collapsed": false
   },
   "outputs": [],
   "source": [
    "\n",
    "sillyList = []\n",
    "for i in range(50000):\n",
    "    sillyList.append(sum(sillyList))\n",
    "    "
   ]
  },
  {
   "cell_type": "markdown",
   "metadata": {},
   "source": [
    " "
   ]
  },
  {
   "cell_type": "markdown",
   "metadata": {},
   "source": [
    "**(B) Counting characters.** Is it faster to use the built-in function `str.count()` or to loop through a string and count characters manually? Compare the two by counting all the A's in all the sequences in `fake.fasta` using each method and comparing how long they take to run. \n",
    "\n",
    "(You do not need to output the counts)"
   ]
  },
  {
   "cell_type": "code",
   "execution_count": null,
   "metadata": {
    "collapsed": true
   },
   "outputs": [],
   "source": [
    "# Method 1 (Manual counting)"
   ]
  },
  {
   "cell_type": "code",
   "execution_count": null,
   "metadata": {
    "collapsed": true
   },
   "outputs": [],
   "source": [
    "# Method 2 (.count())"
   ]
  },
  {
   "cell_type": "markdown",
   "metadata": {},
   "source": [
    "*Which was faster?* Your answer: "
   ]
  },
  {
   "cell_type": "markdown",
   "metadata": {},
   "source": [
    " "
   ]
  },
  {
   "cell_type": "markdown",
   "metadata": {},
   "source": [
    "**(C) Replacing characters.** Is it faster to use the built-in function `str.replace()` or to loop through a string and replace characters manually? Compare the two by replacing all the T's with U's in all the sequences in `fake.fasta` using each method, and comparing how long they take to run. \n",
    "\n",
    "(You do not need to output the edited sequences)"
   ]
  },
  {
   "cell_type": "code",
   "execution_count": null,
   "metadata": {
    "collapsed": true
   },
   "outputs": [],
   "source": [
    "# Method 1 (Manual replacement)"
   ]
  },
  {
   "cell_type": "code",
   "execution_count": null,
   "metadata": {
    "collapsed": true
   },
   "outputs": [],
   "source": [
    "# Method 2 (.replace())"
   ]
  },
  {
   "cell_type": "markdown",
   "metadata": {},
   "source": [
    "*Which was faster?* Your answer: "
   ]
  },
  {
   "cell_type": "markdown",
   "metadata": {},
   "source": [
    " "
   ]
  },
  {
   "cell_type": "markdown",
   "metadata": {},
   "source": [
    "**(D) Lookup speed in data structures.** Is it faster to get unique IDs using a list or a dictionary? Read in `fake.fasta`, ignoring everything but the header lines. Count the number of unique IDs (headers) using a list or dictionary, and compare how long each method takes to run. \n",
    "\n",
    "Be patient; this one might take a while to run!"
   ]
  },
  {
   "cell_type": "code",
   "execution_count": null,
   "metadata": {
    "collapsed": true
   },
   "outputs": [],
   "source": [
    "# Method 1 (list)"
   ]
  },
  {
   "cell_type": "code",
   "execution_count": null,
   "metadata": {
    "collapsed": true
   },
   "outputs": [],
   "source": [
    "# Method 2 (dictionary)"
   ]
  },
  {
   "cell_type": "markdown",
   "metadata": {},
   "source": [
    "*Which was faster?* Your answer: "
   ]
  },
  {
   "cell_type": "markdown",
   "metadata": {},
   "source": [
    " "
   ]
  },
  {
   "cell_type": "markdown",
   "metadata": {},
   "source": [
    "If you're curious, below is a brief explanation of the outcomes you should have observed:\n",
    "\n",
    "> (B) The built-in method should be much faster! Most built in functions are pretty well optimized, so they will often (but not always) be faster.\n",
    "\n",
    "> (C) Again, the built in function should be quite a bit faster.\n",
    "\n",
    "> (D) If you did this right, then the dictionary should be faster by several orders of magnitude. When you use a dictionary, Python jumps directly to where the requested key *should* be, if it were in the dictionary. This is very fast (it's an O(1) operation, for those who are familiar with the terminology). With lists, on the other hand, Python will scan through the whole list until it finds the requested element (or until it reaches the end). This gets slower and slower on average as you add more elements (it's an O(n) operation). Just something to keep in mind if you start working with very large datasets!\n",
    " "
   ]
  },
  {
   "cell_type": "markdown",
   "metadata": {},
   "source": [
    "---\n",
    "## 4. `os` and `glob` practice (6pts)\n",
    "\n",
    "Use `horrible.fasta` as a test fasta file for the following."
   ]
  },
  {
   "cell_type": "markdown",
   "metadata": {},
   "source": [
    "**(A)** Write code that prompts the user (using `raw_input()`) for two pieces of information: an input file name (assumed to be a fasta file) and an output folder name (does not need to already exist). Then do the following:\n",
    "- Check if the input file exists\n",
    "- If it doesn't, print an error message\n",
    "- Otherwise, go on to check if the output folder exists\n",
    "- If it doesn't, create it"
   ]
  },
  {
   "cell_type": "code",
   "execution_count": null,
   "metadata": {
    "collapsed": true
   },
   "outputs": [],
   "source": []
  },
  {
   "cell_type": "markdown",
   "metadata": {},
   "source": [
    " "
   ]
  },
  {
   "cell_type": "markdown",
   "metadata": {},
   "source": [
    "**(B)** Add to the code above so that it also does the following after creating the output folder:\n",
    "- Read in the fasta file (**ONLY** if it exists) \n",
    "- Print each individual sequence to a separate file **in the specified output folder**. \n",
    "- The files should be named `<SEQID>.fasta`, where `<SEQID>` is the name of the sequence (from the fasta header)"
   ]
  },
  {
   "cell_type": "code",
   "execution_count": null,
   "metadata": {
    "collapsed": true
   },
   "outputs": [],
   "source": []
  },
  {
   "cell_type": "markdown",
   "metadata": {},
   "source": [
    " "
   ]
  },
  {
   "cell_type": "markdown",
   "metadata": {},
   "source": [
    "**(C)** Now use `glob` to get a list of all files in the output folder from part (B) that have a .fasta extension. For each file, print just the file name (not the file path) to the screen."
   ]
  },
  {
   "cell_type": "code",
   "execution_count": null,
   "metadata": {
    "collapsed": true
   },
   "outputs": [],
   "source": []
  }
 ],
 "metadata": {
  "anaconda-cloud": {},
  "kernelspec": {
   "display_name": "Python [Root]",
   "language": "python",
   "name": "Python [Root]"
  },
  "language_info": {
   "codemirror_mode": {
    "name": "ipython",
    "version": 2
   },
   "file_extension": ".py",
   "mimetype": "text/x-python",
   "name": "python",
   "nbconvert_exporter": "python",
   "pygments_lexer": "ipython2",
   "version": "2.7.12"
  }
 },
 "nbformat": 4,
 "nbformat_minor": 0
}
