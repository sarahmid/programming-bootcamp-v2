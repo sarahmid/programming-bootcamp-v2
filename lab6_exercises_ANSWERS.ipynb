{
 "cells": [
  {
   "cell_type": "markdown",
   "metadata": {},
   "source": [
    "# Programming Bootcamp 2016\n",
    "# Lesson 6 Exercises -- ANSWERS\n",
    "---"
   ]
  },
  {
   "cell_type": "markdown",
   "metadata": {},
   "source": [
    "** Earning points (optional) **\n",
    "\n",
    "- Enter your name below.\n",
    "- Email your `.ipynb` file to me (sarahmid@mail.med.upenn.edu) **before 9:00 am on 9/27**. \n",
    "- You do not need to complete all the problems to get points. \n",
    "- I will give partial credit for effort when possible.\n",
    "- At the end of the course, everyone who gets at least 90% of the total points will get a prize (bootcamp mug!)."
   ]
  },
  {
   "cell_type": "markdown",
   "metadata": {},
   "source": [
    "**Name**: "
   ]
  },
  {
   "cell_type": "markdown",
   "metadata": {},
   "source": [
    "---\n",
    "## 1. Guess the output: scope practice (2pts)\n",
    "\n",
    "Refer to the code below to answer the following questions:"
   ]
  },
  {
   "cell_type": "code",
   "execution_count": 2,
   "metadata": {
    "collapsed": true
   },
   "outputs": [],
   "source": [
    "def fancy_calc(a, b, c):\n",
    "    x1 = basic_calc(a,b)\n",
    "    x2 = basic_calc(b,c)\n",
    "    x3 = basic_calc(c,a)\n",
    "    z = x1 * x2 * x3\n",
    "    return z\n",
    "\n",
    "def basic_calc(x, y):\n",
    "    result = x + y\n",
    "    return result\n",
    "\n",
    "x = 1\n",
    "y = 2\n",
    "z = 3\n",
    "result = fancy_calc(x, y, z)"
   ]
  },
  {
   "cell_type": "markdown",
   "metadata": {},
   "source": [
    "**(A)** List the line numbers of the code above in the order that they will be **executed**. If a line will be executed more than once, list it each time. \n",
    "\n",
    "**NOTE**: Select the cell above and hit \"L\" to activate line numbering!"
   ]
  },
  {
   "cell_type": "markdown",
   "metadata": {},
   "source": [
    "Answer:\n",
    "```\n",
    "12\n",
    "13\n",
    "14\n",
    "15\n",
    "1\n",
    "2\n",
    "8\n",
    "9\n",
    "10\n",
    "2\n",
    "3\n",
    "8\n",
    "9\n",
    "10\n",
    "3\n",
    "4\n",
    "8\n",
    "9\n",
    "10\n",
    "4\n",
    "5\n",
    "6\n",
    "15\n",
    "```"
   ]
  },
  {
   "cell_type": "markdown",
   "metadata": {},
   "source": [
    "**(B)** Guess the output if you were to run each of the following pieces of code immediately after running the code above. Then run the code to see if you're right. (Remember to run the code above first)"
   ]
  },
  {
   "cell_type": "code",
   "execution_count": 3,
   "metadata": {
    "collapsed": false
   },
   "outputs": [
    {
     "name": "stdout",
     "output_type": "stream",
     "text": [
      "1\n"
     ]
    }
   ],
   "source": [
    "print x"
   ]
  },
  {
   "cell_type": "code",
   "execution_count": 4,
   "metadata": {
    "collapsed": false
   },
   "outputs": [
    {
     "name": "stdout",
     "output_type": "stream",
     "text": [
      "3\n"
     ]
    }
   ],
   "source": [
    "print z"
   ]
  },
  {
   "cell_type": "code",
   "execution_count": 5,
   "metadata": {
    "collapsed": false
   },
   "outputs": [
    {
     "ename": "NameError",
     "evalue": "name 'x1' is not defined",
     "output_type": "error",
     "traceback": [
      "\u001b[1;31m---------------------------------------------------------------------------\u001b[0m",
      "\u001b[1;31mNameError\u001b[0m                                 Traceback (most recent call last)",
      "\u001b[1;32m<ipython-input-5-8d4362aff03b>\u001b[0m in \u001b[0;36m<module>\u001b[1;34m()\u001b[0m\n\u001b[1;32m----> 1\u001b[1;33m \u001b[1;32mprint\u001b[0m \u001b[0mx1\u001b[0m\u001b[1;33m\u001b[0m\u001b[0m\n\u001b[0m",
      "\u001b[1;31mNameError\u001b[0m: name 'x1' is not defined"
     ]
    }
   ],
   "source": [
    "print x1"
   ]
  },
  {
   "cell_type": "code",
   "execution_count": 6,
   "metadata": {
    "collapsed": false
   },
   "outputs": [
    {
     "name": "stdout",
     "output_type": "stream",
     "text": [
      "60\n"
     ]
    }
   ],
   "source": [
    "print result"
   ]
  },
  {
   "cell_type": "markdown",
   "metadata": {},
   "source": [
    "---\n",
    "## 2. Data structure woes (2pt)\n",
    "\n",
    "**(A) Passing a data structure to a function.** Guess the output of the following lines of code if you were to run them immediately following the code block below. Then run the code yourself to see if you're right."
   ]
  },
  {
   "cell_type": "code",
   "execution_count": 7,
   "metadata": {
    "collapsed": true
   },
   "outputs": [],
   "source": [
    "# run this first!\n",
    "\n",
    "def getMax(someList):\n",
    "    someList.sort()\n",
    "    x = someList[-1]\n",
    "    return x\n",
    "\n",
    "scores = [9, 5, 7, 1, 8]\n",
    "maxScore = getMax(scores)"
   ]
  },
  {
   "cell_type": "code",
   "execution_count": 8,
   "metadata": {
    "collapsed": false
   },
   "outputs": [
    {
     "name": "stdout",
     "output_type": "stream",
     "text": [
      "9\n"
     ]
    }
   ],
   "source": [
    "print maxScore"
   ]
  },
  {
   "cell_type": "code",
   "execution_count": 9,
   "metadata": {
    "collapsed": false
   },
   "outputs": [
    {
     "ename": "NameError",
     "evalue": "name 'someList' is not defined",
     "output_type": "error",
     "traceback": [
      "\u001b[1;31m---------------------------------------------------------------------------\u001b[0m",
      "\u001b[1;31mNameError\u001b[0m                                 Traceback (most recent call last)",
      "\u001b[1;32m<ipython-input-9-1767a8b07a7f>\u001b[0m in \u001b[0;36m<module>\u001b[1;34m()\u001b[0m\n\u001b[1;32m----> 1\u001b[1;33m \u001b[1;32mprint\u001b[0m \u001b[0msomeList\u001b[0m\u001b[1;33m\u001b[0m\u001b[0m\n\u001b[0m",
      "\u001b[1;31mNameError\u001b[0m: name 'someList' is not defined"
     ]
    }
   ],
   "source": [
    "print someList"
   ]
  },
  {
   "cell_type": "code",
   "execution_count": 10,
   "metadata": {
    "collapsed": false
   },
   "outputs": [
    {
     "name": "stdout",
     "output_type": "stream",
     "text": [
      "[1, 5, 7, 8, 9]\n"
     ]
    }
   ],
   "source": [
    "print scores"
   ]
  },
  {
   "cell_type": "markdown",
   "metadata": {},
   "source": [
    "> Why does scores get sorted? \n",
    "\n",
    "> When you pass a data structure as a parameter to a function, it's not a **copy** of the data structure that gets passed (as what happens with regular variables). What gets passed is a **direct reference** to the data structure itself. \n",
    "\n",
    "> The reason this is done is because data structures are typically expected to be fairly large, and copying/re-assigning the whole thing can be both time- and memory-consuming. So doing things this way is more efficient. It can also surprise you, though, if you're not aware it's happening. If you would like to learn more about this, look up \"Pass by reference vs pass by value\"."
   ]
  },
  {
   "cell_type": "markdown",
   "metadata": {},
   "source": [
    "**(B) Copying data structures.** Guess the output of the following code if you were to run them immediately following the code block below. Then run the code yourself to see if you're right."
   ]
  },
  {
   "cell_type": "code",
   "execution_count": 11,
   "metadata": {
    "collapsed": false
   },
   "outputs": [],
   "source": [
    "# run this first!\n",
    "list1 = [1, 2, 3, 4]\n",
    "list2 = list1\n",
    "list2[0] = \"HELLO\""
   ]
  },
  {
   "cell_type": "code",
   "execution_count": 12,
   "metadata": {
    "collapsed": false
   },
   "outputs": [
    {
     "name": "stdout",
     "output_type": "stream",
     "text": [
      "['HELLO', 2, 3, 4]\n"
     ]
    }
   ],
   "source": [
    "print list2"
   ]
  },
  {
   "cell_type": "code",
   "execution_count": 13,
   "metadata": {
    "collapsed": false
   },
   "outputs": [
    {
     "name": "stdout",
     "output_type": "stream",
     "text": [
      "['HELLO', 2, 3, 4]\n"
     ]
    }
   ],
   "source": [
    "print list1"
   ]
  },
  {
   "cell_type": "markdown",
   "metadata": {},
   "source": [
    "> Yes, that's right--even when you try to make a new copy of a list, it's actually just a reference to the same list! This is called aliasing. The same thing will happen with a dictionary. This can really trip you up if you don't know it's happening."
   ]
  },
  {
   "cell_type": "markdown",
   "metadata": {},
   "source": [
    "So what if we want to make a truly separate copy? Here's a way for lists:"
   ]
  },
  {
   "cell_type": "code",
   "execution_count": 14,
   "metadata": {
    "collapsed": false
   },
   "outputs": [
    {
     "name": "stdout",
     "output_type": "stream",
     "text": [
      "['HELLO', 2, 3, 4]\n",
      "[1, 2, 3, 4]\n"
     ]
    }
   ],
   "source": [
    "# for lists\n",
    "list1 = [1, 2, 3, 4]\n",
    "list2 = list(list1) #make a true copy of the list\n",
    "list2[0] = \"HELLO\"\n",
    "\n",
    "print list2\n",
    "print list1"
   ]
  },
  {
   "cell_type": "markdown",
   "metadata": {},
   "source": [
    "And here's a way for dictionaries:"
   ]
  },
  {
   "cell_type": "code",
   "execution_count": 15,
   "metadata": {
    "collapsed": false
   },
   "outputs": [
    {
     "name": "stdout",
     "output_type": "stream",
     "text": [
      "{'A': 99, 'C': 3, 'B': 2}\n",
      "{'A': 1, 'C': 3, 'B': 2}\n"
     ]
    }
   ],
   "source": [
    "# for dictionaries\n",
    "dict1 = {'A':1, 'B':2, 'C':3}\n",
    "dict2 = dict1.copy() #make a true copy of the dict\n",
    "dict2['A'] = 99\n",
    "\n",
    "print dict2\n",
    "print dict1"
   ]
  },
  {
   "cell_type": "markdown",
   "metadata": {},
   "source": [
    "---\n",
    "## 3. Writing custom functions (8pts)\n",
    "\n",
    "Complete the following. For some of these problems, you can use your code from previous labs as a starting point. \n",
    "\n",
    "(If you didn't finish those problems, feel free to use the code from the answer sheet, just make sure you understand how they work! Optionally, for extra practice you can try re-writing them using some of the new things we've learned since then.)"
   ]
  },
  {
   "cell_type": "markdown",
   "metadata": {},
   "source": [
    "**(A)** (1pt) Create a function called \"gc\" that takes a single sequence as a parameter and returns the GC content of the sequence (as a 2 decimal place float)."
   ]
  },
  {
   "cell_type": "code",
   "execution_count": 16,
   "metadata": {
    "collapsed": true
   },
   "outputs": [],
   "source": [
    "def gc(seq):\n",
    "    gcCount = seq.count(\"C\") + seq.count(\"G\")\n",
    "    gcFrac = float(gcCount) / len(seq)\n",
    "    \n",
    "    return round(gcFrac,2)"
   ]
  },
  {
   "cell_type": "markdown",
   "metadata": {},
   "source": [
    "**(B)** (1pt) Create a function called \"reverse_compl\" that takes a single sequence as a parameter and returns the reverse complement."
   ]
  },
  {
   "cell_type": "code",
   "execution_count": 17,
   "metadata": {
    "collapsed": true
   },
   "outputs": [],
   "source": [
    "def reverse_compl(seq):\n",
    "    complements = {'A':'T', 'C':'G', 'G':'C', 'T':'A'}\n",
    "    compl = \"\"\n",
    "    for char in seq:\n",
    "        compl = complements[char] + compl\n",
    "    \n",
    "    return compl"
   ]
  },
  {
   "cell_type": "markdown",
   "metadata": {},
   "source": [
    "**(C)** (1pt) Create a function called \"read_fasta\" that takes a file name as a parameter (which is assumed to be in fasta format), puts each fasta entry into a dictionary (using the header line as a key and the sequence as a value), and then returns the dictionary."
   ]
  },
  {
   "cell_type": "code",
   "execution_count": 18,
   "metadata": {
    "collapsed": true
   },
   "outputs": [],
   "source": [
    "def read_fasta(fileName):\n",
    "    ins = open(fileName, 'r')\n",
    "    seqDict = {}\n",
    "    activeID = \"\"\n",
    "\n",
    "    for line in ins:\n",
    "        line = line.rstrip('\\r\\n')\n",
    "        \n",
    "        if line[0] == \">\":\n",
    "            activeID = line[1:] \n",
    "            if activeID in seqDict:\n",
    "                print \">>> Warning: repeat id:\", activeID, \"-- overwriting previous ID.\"\n",
    "            seqDict[activeID] = \"\"\n",
    "            \n",
    "        else:\n",
    "            seqDict[activeID] += line \n",
    "    \n",
    "    ins.close()    \n",
    "    \n",
    "    return seqDict"
   ]
  },
  {
   "cell_type": "markdown",
   "metadata": {},
   "source": [
    "**(D)** (2pts) Create a function called \"rand_seq\" that takes an integer length as a parameter, and then returns a random DNA sequence of that length. \n",
    "\n",
    "*Hint: make a list of the possible nucleotides*"
   ]
  },
  {
   "cell_type": "code",
   "execution_count": 19,
   "metadata": {
    "collapsed": true
   },
   "outputs": [],
   "source": [
    "def rand_seq(length):\n",
    "    import random\n",
    "    \n",
    "    nts = ['A','C','G','T']\n",
    "    seq = \"\"\n",
    "    for i in range(length):\n",
    "        seq += random.choice(nts)\n",
    "    \n",
    "    return seq"
   ]
  },
  {
   "cell_type": "markdown",
   "metadata": {},
   "source": [
    "**(E)** (2pts) Create a function called \"shuffle_nt\" that takes a single sequence as a parameter and returns a string that is a shuffled version of the sequence (i.e. the same nucleotides, but in a random order). \n",
    "\n",
    "*Hint: Look for Python functions that will make this easier. For example, the `random` module has some functions for shuffling. There may also be some built-in string functions that are useful. However, you can also do this just using things we've learned.*"
   ]
  },
  {
   "cell_type": "code",
   "execution_count": 20,
   "metadata": {
    "collapsed": true
   },
   "outputs": [],
   "source": [
    "def shuffle_nt(seq):\n",
    "    import random\n",
    "    \n",
    "    strList = list(seq)\n",
    "    random.shuffle(strList)\n",
    "    shuffSeq = \"\".join(strList)\n",
    "    \n",
    "    return shuffSeq"
   ]
  },
  {
   "cell_type": "markdown",
   "metadata": {},
   "source": [
    "**(F)** (1pt) Run the code below to show that all of your functions work. Try to fix any that have problems."
   ]
  },
  {
   "cell_type": "code",
   "execution_count": 21,
   "metadata": {
    "collapsed": false
   },
   "outputs": [
    {
     "name": "stdout",
     "output_type": "stream",
     "text": [
      "gc: Passed.\n",
      "reverse_compl: Passed.\n",
      "read_fasta: Passed.\n",
      "rand_seq: Passed.\n",
      "shuff_seq: Passed.\n"
     ]
    }
   ],
   "source": [
    "##### testing gc\n",
    "gcCont = gc(\"ATGGGCCCAATGG\")\n",
    "\n",
    "if type(gcCont) != float:\n",
    "    print \">> Problem with gc: answer is not a float, it is a %s.\" % type(gcCont)\n",
    "elif gcCont != 0.62:\n",
    "    print \">> Problem with gc: incorrect answer (should be 0.62; your code gave\", gcCont, \")\"      \n",
    "else:\n",
    "    print \"gc: Passed.\"\n",
    "\n",
    "\n",
    "##### testing reverse_compl\n",
    "revCompl = reverse_compl(\"GGGGTCGATGCAAATTCAAA\")\n",
    "\n",
    "if type(revCompl) != str:\n",
    "        print \">> Problem with reverse_compl: answer is not a string, it is a %s.\" % type(revCompl)  \n",
    "elif revCompl != \"TTTGAATTTGCATCGACCCC\":\n",
    "    print \">> Problem with reverse_compl: answer (%s) does not match expected (%s)\" % (revCompl, \"TTTGAATTTGCATCGACCCC\")         \n",
    "else:\n",
    "    print \"reverse_compl: Passed.\"\n",
    "    \n",
    "\n",
    "##### testing read_fasta\n",
    "try:\n",
    "    ins = open(\"horrible.fasta\", 'r')\n",
    "except IOError:\n",
    "    print \">> Can not test read_fasta because horrible.fasta is missing. Please add it to the directory with this notebook.\"\n",
    "else:\n",
    "    seqDict = read_fasta(\"horrible.fasta\")\n",
    "    \n",
    "    if type(seqDict) != dict:\n",
    "        print \">> Problem with read_fasta: answer is not a dictionary, it is a %s.\" % type(seqDict)\n",
    "    elif len(seqDict) != 22:\n",
    "        print \">> Problem with read_fasta: # of keys in dictionary (%s) does not match expected (%s)\" % (len(seqDict), 22)\n",
    "    else:\n",
    "        print \"read_fasta: Passed.\"\n",
    "\n",
    "\n",
    "##### testing rand_seq\n",
    "randSeq1 = rand_seq(23)\n",
    "randSeq2 = rand_seq(23)\n",
    "\n",
    "if type(randSeq1) != str:\n",
    "    print \">> Problem with rand_seq: answer is not a string, it is a %s.\" % type(randSeq1)\n",
    "elif len(randSeq1) != 23:\n",
    "    print \">> Problem with rand_seq: answer length (%s) does not match expected (%s).\" % (len(randSeq1), 23)\n",
    "elif randSeq1 == randSeq2:\n",
    "    print \">> Problem with rand_seq: generated the same sequence twice (%s) -- are you sure this is random?\" % randSeq1\n",
    "else:\n",
    "    print \"rand_seq: Passed.\"\n",
    "\n",
    "\n",
    "##### testing shuffle_nt\n",
    "shuffSeq = shuffle_nt(\"AAAAAAGTTTCCC\")\n",
    "\n",
    "if type(shuffSeq) != str:\n",
    "    print \">> Problem with shuffle_nt: answer is not a string, it is a %s.\" % type(shuffSeq)\n",
    "elif len(shuffSeq) != 13:\n",
    "    print \">> Problem with shuffle_nt: answer length (%s) does not match expected (%s).\" % (len(shuffSeq), 12)\n",
    "elif shuffSeq == \"AAAAAAGTTTCCC\":\n",
    "    print \">> Problem with shuffle_nt: answer is exactly the same as the input. Are you sure this is shuffling?\"\n",
    "elif shuffSeq.count('A') != 6:\n",
    "    print \">> Problem with shuffle_nt: answer doesn't contain the same # of each nt as the input.\"\n",
    "else:\n",
    "    print \"shuff_seq: Passed.\""
   ]
  },
  {
   "cell_type": "markdown",
   "metadata": {},
   "source": [
    "---\n",
    "## 4. Using your functions (5pts)\n",
    "\n",
    "Use the **functions you created above** to complete the following."
   ]
  },
  {
   "cell_type": "markdown",
   "metadata": {},
   "source": [
    "**(A)** (1pt) Create 20 random nucleotide sequences of length 50 and print them to the screen."
   ]
  },
  {
   "cell_type": "code",
   "execution_count": 22,
   "metadata": {
    "collapsed": false
   },
   "outputs": [
    {
     "name": "stdout",
     "output_type": "stream",
     "text": [
      "AGGATTGGTATTTACAATCCAGGGATATATTACATGTGCTCGACCCCGGA\n",
      "GCAGCGGACGAACAGCTTGGCCCTCAATCGCACGGAGCCATAAACCCATC\n",
      "TTGTGCGCACTCGCAGGGCCTCAATCTGCTTCGGTCCTGCAATCCTCCTG\n",
      "TTCAGCGTGGTGAGGGGGGTGACTGTTAGCCAGCCGGGTACAGTGGGGAG\n",
      "GGGAACTATGCATCTAGGCCCCGTTGTACGTACAACCTCGGCTAAGCTCC\n",
      "ATTCAACAAGCGTAATGCCACAATCAATTAGTTTATCGATGGCCTAAGCT\n",
      "TCGCCGGGTTACGAGACGGGCTCCGTGGTAGAGGGGCGCCACCTTGATGG\n",
      "CGCGTGTATCTAATCCCAGAAACGGATGCCCCTCTCGTACCCGCCCCACA\n",
      "CGGTGGGGCGAAGCGAGATCCCACTTCATTAATGTGCCCCTTACTCGATG\n",
      "GCGTCGGAAGATCACAAACGTGTGCATAAAGCCCCAAGAAGCCACTAGCT\n",
      "CCTACATTAAGACATTCAGCAATAATATTCTTTCTTGTGGGTAGTACGGA\n",
      "AGTTGTGCTTGACGGGGTATGTACATGGCGTAATAAAGACCGTAACGACA\n",
      "AAATGGCACCTAGACTTGCCGACGCTTGCCAGTTTATTTAGTTTGCGAAC\n",
      "GTGGGTTGCGCCAGACACTGAGTGTTGAGTCGGCAGGCGTGATCAAATTA\n",
      "TAAGTCTCAGGGAGGACCCATCCATTTCATGCTGTAAATATCGAACAGTC\n",
      "TAGATGGGCAAGGTGCTTCGGTACAACCTCTCGCTTCATTCATGCCCTAC\n",
      "TCATCGATCAATACCCTATACACTGCCAGCCGGAAGCGAGGAGAGATATG\n",
      "AACATGGTCTATCTACGGCCCTAGACAAAGACCCGAGACTTTTGATCGCC\n",
      "TAGGGAATGCTGTATATCCACAATAGTGGGATCTCAGCTTACACATGCGG\n",
      "TCTTCCGCTCGTCTGTAACTCCACAATTCTGTGTCATAAAGTGCCCGAAG\n"
     ]
    }
   ],
   "source": [
    "for i in range(20):\n",
    "    print rand_seq(50)"
   ]
  },
  {
   "cell_type": "markdown",
   "metadata": {},
   "source": [
    "**(B)** (1pt) Read in `horrible.fasta` into a dictionary. For each sequence, print its reverse complement to the screen."
   ]
  },
  {
   "cell_type": "code",
   "execution_count": 23,
   "metadata": {
    "collapsed": false
   },
   "outputs": [
    {
     "name": "stdout",
     "output_type": "stream",
     "text": [
      "AACCTCCTGGGGAGGTGGTGGCGGCTCTTGCAGATGTGGAACCAGCAGAGGTTGTGCTTACAGCTGGGCCTGTGGTGCTGCCAGCTGTTTCAGCCGGTGT\n",
      "CTGATCACTGAGCTGAAACTAAACGTTTTAGGTGGAAAAAAAGCGTCCGAAGGCACCGTGAAATGATTAAGGAACTAAAGAGCTTCTCGCCATGTGAGATCATGTCCTGTTCTCGCCAACATCACAAGATGTCCCCAGACACGCCGCGCCCCCAGCGCGCCGCCCCACACTGCCGGCCCGGAGCGAGGAAAGGGTAGGCGCTGCGCGG\n",
      "TAGGTGAAAATTCCTTCTGCTGGTTCCCAGAGATACCTAGGAAGACTCTGGGGAACCCTTGGCTAATTATCCCAGGAAAACTGCTGCCTCGGCTGAAACTGGAAGCTCATGGTGGACCCCAAGATATCTTATCTTTGGGACACTTAAAAAAAAAAAGCTATTTTATTCCAATTAAGCCAGTCTTTTGAGAGACACCTAGAAAGAAAGGGCTTCTAAAACATGAACATGAGCTCTGATGTTAGCAACCCAACTTCCACTCCAAAATTACTGAAATATTTATGGGTAAAATTAACTCATAAAAACCTTCTTCT\n",
      "ACCCCTAAGGAACGTCCCTCGCGTCGGTTTGAGGAGGAAGGCGCACTTCTCTTGATGACCGTTGG\n",
      "GGTAAGCACAGGATCCAAGAAACAGAGATTACACACAGGAGAGAGGCCAAGCAAAGCTCTGTGATGAAAGGTATGAAGTATGCCCACGGAGCAGCCAGCTGAGACTGGAACAAGAGGATGTAGCACTCCATGCAGGAAAATTCCATGGAATCTAGCACTTTGGGACATCCAGGTGGGCG\n",
      "AGCAATACTTTCACTGCTGCCAGCCCGAG\n",
      "GTATCACCTTCAATTTCTTAAGAGCCATTCTTCT\n",
      "ATTTTCTGAGCTTCTTCTCTCGCAAGGTCTTGTTCATTTGGCAATACTGATATTTGATCTTTGTACACA\n",
      "GTACCTTCTCGGAAGGCCAGAGTCAATTGTACCACCACAGATCCTGGCCTGAACTTAATATTGGAGAGGCCCAGAAAACCCCCTT\n",
      "CAAAGCACACAGAGATTCTGTCAGGTGCTGAGACACCACAGCCTTCTCAATTTTGTCCTTAAGGGCTTTATCTTTCATCCAATTGAGCAGAGGCTCAAATTCTTTCTCAACTGCTTCATGACTCTCCTTAGTTTTCTCACTTTTATCAAACTTCATTCCTTCCTTGACAACATTCTGGAACCTCTTCCCATCAAATTTG\n",
      "GGGCCCGGGACCCGGGTGGGGGGGACCGCCGAGAGGCCCAGCGCAGCGA\n",
      "GCTTTGGAAACTGGAATGAGGATCACCAACAGGATCCTCATTTTACACAGGAGTTATGAGAGTTACATCCTCTAGCAGAGATGCTTGGTCATTACCTGTGGTACATGAGATTACCGAGCTAAAAGGGAAAAAAAACGATCTTAATGTTCTCCCATGAACTCAACTTAAGCTTTTTATGGAGGCACTGAGGCCATGCAGCTCCTTTTCCAAAAGACACAGATAAAAGCCAAATAAGGTAGAGGACTTTGGAAATTTTCTCTGAAAAGTTAAATTCCACATAATAGTAAGA\n",
      "TTTTAATCTTCTTCCTTCCCGTCGACTGTCTTTCTTTAAAGCAACTGCAATTTCTTCCCTTACTTCCTCACTGTCTGTTGCTATAATTTGCCCATTGTGAACCATCTGTGAATTCTGTCTTAGGTATTCCATGAATCCATTCACATCTTCATTTAAGTACTCTTTTTTCTTTTTGTTCTTTTTATGTTTTGCTTGGGGTGCATCATTTTTGAGGGATAGCCTATTGGCTTCAAGTTGTTTACGCTTTGGTAGGTTTTGGCTTGTTCCCTCAAAGGATCCCTTCTTCATGTCCTCCCATGATGTTGCAGGCAAGGGTCTCTTGTTATATGTGGTACTAACTCGGGCCCACCTGGTCATAATTTCATCAGTGGTACCGCGCACGAATCCCCCAGAGCAGCCGAGTTGGCGAGCCGGGGAAGACCGCCCTCCTGCGGTATTGGAGACCGGAAGCACATAGTG\n",
      "TCAATGTTTTCTTCTTTAATCACAGATGATGTACAGACACCAGCATAATTTGCTGATGTAATTTCCTTATCCAAGG\n",
      "CTTCATATATATTTAATTTTCTCTTTGCTTCACTACTGCAAGGTAGGTGTTTATTATCTCCTTTTACAGATGTGGAAACTTAGGCTCAGAGGTGAAGTAACTTGCACAAGTTTCTACAGCTAGAATTTGAACCAGGTCTGACCCCCGAATTGTGCTCGTCCATAAAGGCCAGCATTTGCCAAATTATGGCACACAGTACCACCAGTGGTACGTGACTTCTTTGGTTGAAAACAGACAAATTTATTTTGTTTTGATAGTTATGTCTTTTAATATGTATTAGAAGAATACATAATTAGCACACATCAAACCTGTGATTTCACAGATATCACTACTTGGGATGAAAATGATATAGGATAACAATGTTAGACCTCAG\n",
      "AAGATTTCCAGAGTGG\n",
      "CCATGGTTAGTTAAATTCCCTAGAGATGTAGCCGTGACTCTCCCAATACCTGAAGTGTGCCTCCCCTGACTCTGTGGCATCCTCTGGAAGAGATCATGGTTGTATTCATAATATCTGTAATCTTCTTGTGCACGATCTCCAAGTGGCCGCCTTCTCTGTCCATCAAAAAAGTTATCTGAGAAGAAGTATCGGGAGCCAGAGTCTCCATTCTCAACAGCAAAGTTAACTTCTGTCAAAAATGACTGTGATGAGCCACACTCTCGAGGGACATCTGCTAGGCTCCTGACAAGGTAAGAAGGGGCAGACAGTCTGTGGCTTTCTCTTCTCATTACTTCATGAGGTGTCCTTTGAATTGCAGTTCTCAGGAAACTCTGGTTTCTTGAAACTACACCATCTCCAGAAGCTGAGAAAGCAGTAGCACTTGAATCTGGAAGACAGAGGTCAGTCC\n",
      "CCTTTCCGGGACTGGTTT\n",
      "AAATTGACTTCTGCCATAATAAAATC\n",
      "TGAACAGCTGCTGTGTAGCCCATACTGTGAAAAGTAAAACATCACCCCAGTTCTCGGTACACACAGAGCTCATGCTCCAGCGGGCTGAGCCT\n",
      "GCTTAAGCCTAGGAGTTTGAGACCAGCCTGGGCAACACAGCAAGACCCCATCTCTACCAAAAAAAAAAAAAAATTAAAGAGTCCTATAGAGAATTCTTATACTCCAATGTGAAGACAACATTGGAAAGGGCCAAGTTTCTCATGCCCTCCAACTAAGAAACCCCTAATAAAAAATGAAGTGACACTTGAACAGGACTTAAGGATTCTACAGTTGGTCTTTGGCAGCAGTATGTTTTAGGAAATGTAATGCGGCGGGTGGGGCGGTGACTTAGCCAGTTATGCTTTTAAATGGAACTGCAATAATAAAAGTGATACTAGTGCAGAAAGTATCTGTATTAGAATTCTAGAGTAAGTCAAGAGCTCACATTCATTAAAATAATGACACAACTCCACGGGGGTGGGGAGAACAGCAGTAAAGCAACCACATACTATACTATTAGACTGGCAACATTGAGACTGAAAATATCCATGAGGAGAATACTGACATCTTA\n",
      "GCATGGTTGGCCTGAAGGTATTAGTGCGCAGGAGATGATTCAAACTTCCATGGGTCCCATTATTAGGAGCTGGCTTCAATCCCAGGAGATCACACATAACATTGTAAAGTTCAATGTTTTCAAATGGAGGCACTTTAGTCTTGTACTTAAATGTTGAGCCATAACCTACAAAAACAGTCTGCATGCTGTTGACCTTGTTATCAAATCCGTGGTCTCCCTGGAAAAAGCATTTTCCTGATGG\n"
     ]
    }
   ],
   "source": [
    "seqDict = read_fasta(\"horrible.fasta\")\n",
    "\n",
    "for seqID in seqDict:\n",
    "    print reverse_compl(seqDict[seqID])"
   ]
  },
  {
   "cell_type": "markdown",
   "metadata": {},
   "source": [
    "**(C)** (3pts) Read in horrible.fasta into a dictionary. For each sequence, find the length and the gc content. Print the results to the screen in the following format:\n",
    "```\n",
    "SeqID    Len    GC\n",
    "...      ...    ...\n",
    "```\n",
    "That is, print the header shown above (separating each column's title by a tab (`\\t`)), followed by the corresponding info about each sequence on a separate line. The \"columns\" should be separated by tabs. Remember that you can do this printing as you loop through the dictionary... that way you don't have to store the length and gc content.\n",
    "\n",
    "(In general, this is the sort of formatting you should use when printing data files!)"
   ]
  },
  {
   "cell_type": "code",
   "execution_count": 25,
   "metadata": {
    "collapsed": false
   },
   "outputs": [
    {
     "name": "stdout",
     "output_type": "stream",
     "text": [
      "SeqID\tLen\tGC\n",
      "varlen2_uc007xie.1_4456\t100\t0.61\n",
      "varlen2_uc010mlp.1_79\t208\t0.57\n",
      "varlen2_uc009bxt.1_1728\t311\t0.4\n",
      "varlen2_uc009div.2_242\t65\t0.58\n",
      "varlen2_uc003its.2_2976\t179\t0.5\n",
      "varlen2_uc003nvg.4_2466\t29\t0.55\n",
      "varlen2_uc029ygd.1_73\t34\t0.35\n",
      "varlen2_uc007kxx.1_2963\t69\t0.36\n",
      "varlen2_uc009wph.3_423\t85\t0.51\n",
      "varlen2_uc010osx.2_1007\t199\t0.41\n",
      "varlen2_uc001agr.3_7\t49\t0.84\n",
      "varlen2_uc001pmn.3_3476\t289\t0.39\n",
      "varlen2_uc003khi.3_3\t459\t0.45\n",
      "varlen2_uc021qfk.1>2_1472\t76\t0.34\n",
      "varlen2_uc011moe.2_5914\t373\t0.36\n",
      "varlen2_uc003hyy.2_273\t16\t0.44\n",
      "varlen2_uc007nte.2_374\t448\t0.46\n",
      "varlen2_uc007fws.1_377\t18\t0.56\n",
      "varlen2_uc003pij.1_129\t26\t0.27\n",
      "varlen2_uc002wkt.1_1569\t92\t0.52\n",
      "varlen2_uc010suq.2_3895\t491\t0.4\n",
      "varlen2_uc003yos.2_1634\t241\t0.42\n"
     ]
    }
   ],
   "source": [
    "seqDict = read_fasta(\"horrible.fasta\")\n",
    "print \"SeqID\\tLen\\tGC\"\n",
    "\n",
    "for seqID in seqDict:\n",
    "    seq = seqDict[seqID]\n",
    "    seqLen = len(seq)\n",
    "    seqGC = gc(seq)\n",
    "    print seqID + \"\\t\" + str(seqLen) + \"\\t\" + str(seqGC)"
   ]
  },
  {
   "cell_type": "markdown",
   "metadata": {},
   "source": [
    "---\n",
    "## Bonus question: K-mer generation (+2 bonus points)\n",
    "\n",
    "This question is optional, but if you complete it, I'll give you two bonus points. You won't lose points if you skip it.\n",
    "\n",
    "Create a function called `get_kmers` that takes a single integer parameter, `k`, and returns a list of all possible k-mers of A/T/G/C. For example, if the supplied `k` was 2, you would generate all possible 2-mers, i.e. [AA, AT, AG, AC, TA, TT, TG, TC, GA, GT, GG, GC, CA, CT, CG, CC]. \n",
    "\n",
    "Notes:\n",
    "- This function must be *generic*, in the sense that it can take *any* integer value of `k` and produce the corresponding set of k-mers.\n",
    "- As there are $4^k$ possible k-mers for a given k, stick to smaller values of k for testing!!\n",
    "- I have not really taught you any particularly obvious way to solve this problem, so feel free to get creative in your solution!\n",
    "\n",
    "*There are many ways to do this, and plenty of examples online. Since the purpose of this question is to practice problem solving, don't directly look up \"k-mer generation\"... try to figure it out yourself. You're free to look up more generic things, though.*"
   ]
  },
  {
   "cell_type": "code",
   "execution_count": 36,
   "metadata": {
    "collapsed": true
   },
   "outputs": [],
   "source": [
    "# Method 1\n",
    "# Generic kmer generation for any k and any alphabet (default is DNA nt)\n",
    "# Pretty fast\n",
    "def get_kmers1(k, letters=['A','C','G','T']):\n",
    "    kmers = []\n",
    "    choices = len(letters)\n",
    "    finalNum = choices ** k\n",
    "    \n",
    "    # initialize to blank strings\n",
    "    for i in range(finalNum):\n",
    "        kmers.append(\"\")\n",
    "    \n",
    "    # imagining the kmers lined up vertically, generate one \"column\" at a time\n",
    "    for i in range(k): \n",
    "        consecReps = choices ** (k - (i + 1))   #number of times to consecutively repeat each letter\n",
    "        patternReps = choices ** i #number of times to repeat pattern of letters\n",
    "        \n",
    "        # create the current column of letters\n",
    "        index = 0\n",
    "        for j in range(patternReps):\n",
    "            for m in range(choices):\n",
    "                for n in range(consecReps):\n",
    "                    kmers[index] += letters[m]\n",
    "                    index += 1\n",
    "            \n",
    "    return kmers"
   ]
  },
  {
   "cell_type": "code",
   "execution_count": 37,
   "metadata": {
    "collapsed": false
   },
   "outputs": [
    {
     "data": {
      "text/plain": [
       "['AAA',\n",
       " 'AAC',\n",
       " 'AAG',\n",
       " 'AAT',\n",
       " 'ACA',\n",
       " 'ACC',\n",
       " 'ACG',\n",
       " 'ACT',\n",
       " 'AGA',\n",
       " 'AGC',\n",
       " 'AGG',\n",
       " 'AGT',\n",
       " 'ATA',\n",
       " 'ATC',\n",
       " 'ATG',\n",
       " 'ATT',\n",
       " 'CAA',\n",
       " 'CAC',\n",
       " 'CAG',\n",
       " 'CAT',\n",
       " 'CCA',\n",
       " 'CCC',\n",
       " 'CCG',\n",
       " 'CCT',\n",
       " 'CGA',\n",
       " 'CGC',\n",
       " 'CGG',\n",
       " 'CGT',\n",
       " 'CTA',\n",
       " 'CTC',\n",
       " 'CTG',\n",
       " 'CTT',\n",
       " 'GAA',\n",
       " 'GAC',\n",
       " 'GAG',\n",
       " 'GAT',\n",
       " 'GCA',\n",
       " 'GCC',\n",
       " 'GCG',\n",
       " 'GCT',\n",
       " 'GGA',\n",
       " 'GGC',\n",
       " 'GGG',\n",
       " 'GGT',\n",
       " 'GTA',\n",
       " 'GTC',\n",
       " 'GTG',\n",
       " 'GTT',\n",
       " 'TAA',\n",
       " 'TAC',\n",
       " 'TAG',\n",
       " 'TAT',\n",
       " 'TCA',\n",
       " 'TCC',\n",
       " 'TCG',\n",
       " 'TCT',\n",
       " 'TGA',\n",
       " 'TGC',\n",
       " 'TGG',\n",
       " 'TGT',\n",
       " 'TTA',\n",
       " 'TTC',\n",
       " 'TTG',\n",
       " 'TTT']"
      ]
     },
     "execution_count": 37,
     "metadata": {},
     "output_type": "execute_result"
    }
   ],
   "source": [
    "get_kmers1(3)"
   ]
  },
  {
   "cell_type": "code",
   "execution_count": null,
   "metadata": {
    "collapsed": true
   },
   "outputs": [],
   "source": [
    "# Method 2 \n",
    "# Generate numbers, discard any that aren't 1/2/3/4's, convert to letters. \n",
    "# Super slow~\n",
    "def get_kmers2(k):\n",
    "    discard = [\"0\", \"5\", \"6\", \"7\", \"8\", \"9\"]\n",
    "    convert = {\"1\": \"A\", \"2\": \"T\", \"3\": \"G\", \"4\": \"C\"}\n",
    "    min = int(\"1\" * k)\n",
    "    max = int(\"4\" * k)\n",
    "    kmers = []\n",
    "    tmp = []\n",
    "    for num in range(min, (max + 1)): # generate numerical kmers\n",
    "        good = True\n",
    "        for digit in str(num):\n",
    "            if digit in discard:\n",
    "                good = False\n",
    "                break\n",
    "        if good == True:\n",
    "            tmp.append(num)        \n",
    "    for num in tmp: # convert numerical kmers to ATGC\n",
    "        result = \"\"\n",
    "        for digit in str(num):\n",
    "            result += convert[digit]\n",
    "        kmers.append(result)\n",
    "    \n",
    "    return kmers\n"
   ]
  },
  {
   "cell_type": "code",
   "execution_count": null,
   "metadata": {
    "collapsed": true
   },
   "outputs": [],
   "source": [
    "# Method 3 (by Nate)\n",
    "# A recursive solution. Fast!\n",
    "# (A recursive function is a function that calls itself)\n",
    "def get_kmers3(k):\n",
    "    nt = ['A', 'T', 'G', 'C']\n",
    "    k_mers = []\n",
    "\n",
    "    if k == 1:\n",
    "        return nt\n",
    "\n",
    "    else:\n",
    "        for i in get_kmers3(k - 1):\n",
    "            for j in nt:\n",
    "                k_mers.append(i + j)\n",
    "    return k_mers\n"
   ]
  },
  {
   "cell_type": "code",
   "execution_count": null,
   "metadata": {
    "collapsed": true
   },
   "outputs": [],
   "source": [
    "# Method 4 (by Nate)\n",
    "# Fast\n",
    "def get_kmers4(k):\n",
    "    nt = ['A', 'T', 'G', 'C']\n",
    "    k_mers = []\n",
    "    total_kmers = len(nt)**k\n",
    "\n",
    "    # make a list of size k with all zeroes. \n",
    "    # this keeps track of which base we need at each position \n",
    "    pointers = []\n",
    "    for p in range(k):\n",
    "        pointers.append(0)\n",
    "\n",
    "    for k in range(total_kmers):\n",
    "\n",
    "        # use the pointers to generate the next k-mer\n",
    "        k_mer = \"\"\n",
    "        for p in pointers:\n",
    "            k_mer += nt[p]\n",
    "        k_mers.append(k_mer)\n",
    "\n",
    "        # get the pointers ready for the next k-mer by updating them left to right\n",
    "        pointersUpdated = False\n",
    "        i = 0\n",
    "        while not pointersUpdated and i < len(pointers):\n",
    "            if pointers[i] < len(nt) - 1:\n",
    "                pointers[i] += 1\n",
    "                pointersUpdated = True\n",
    "            else:\n",
    "                pointers[i] = 0\n",
    "                i += 1\n",
    "    \n",
    "    return k_mers\n",
    "   "
   ]
  },
  {
   "cell_type": "code",
   "execution_count": null,
   "metadata": {
    "collapsed": true
   },
   "outputs": [],
   "source": [
    "# Method 5 (by Justin Becker, bootcamp 2013)\n",
    "# Fast!\n",
    "def get_kmers5(k):   #function requires int as an argument\n",
    "    kmers = [\"\"]\n",
    "    for i in range(k):   #after each loop, kmers will store the complete set of i-mers\n",
    "        currentNumSeqs = len(kmers)\n",
    "        for j in range(currentNumSeqs): #each loop takes one i-mer and converts it to 4 (i+1)=mers\n",
    "            currentSeq = kmers[j]\n",
    "            kmers.append(currentSeq + 'C')\n",
    "            kmers.append(currentSeq + 'T')\n",
    "            kmers.append(currentSeq + 'G')\n",
    "            kmers[j] += 'A'\n",
    "    return kmers\n",
    "  "
   ]
  },
  {
   "cell_type": "code",
   "execution_count": null,
   "metadata": {
    "collapsed": true
   },
   "outputs": [],
   "source": [
    "# Method 6 (by Nick)\n",
    "# Convert to base-4\n",
    "def get_kmers6(k):\n",
    "    bases = ['a', 'g', 'c', 't']\n",
    "    kmers = []\n",
    "\n",
    "    for i in range(4**k):\n",
    "        digits = to_base4(i, k)\n",
    "        mystr = \"\"\n",
    "        for baseidx in digits:\n",
    "            mystr += bases[baseidx]\n",
    "\n",
    "        kmers.append(mystr)\n",
    "\n",
    "    return kmers\n",
    "\n",
    "# convert num to a k-digit base-4 int\n",
    "def to_base4(num, k):\n",
    "\n",
    "    digits = []\n",
    "\n",
    "    while k > 0:\n",
    "\n",
    "        digits.append(num/4**(k-1))\n",
    "\n",
    "        num %= 4**(k-1)\n",
    "        k -= 1\n",
    "\n",
    "    return digits\n"
   ]
  },
  {
   "cell_type": "code",
   "execution_count": null,
   "metadata": {
    "collapsed": true
   },
   "outputs": [],
   "source": [
    "# Below: more from Nate\n",
    "import random\n",
    "import time\n",
    "alphabet = ['A', 'C', 'G', 'T']\n",
    "\n",
    "## Modulus based\n",
    "def k_mer_mod(k):\n",
    "    k_mers = []\n",
    "    for i in range(4**k):\n",
    "        k_mer = ''\n",
    "        for j in range(k):\n",
    "            k_mer = alphabet[(i/4**j) % 4]+ k_mer\n",
    "        k_mers.append(k_mer)\n",
    "    return k_mers\n",
    "\n",
    "\n",
    "## maybe the range operator slows things down by making a big tuple\n",
    "def k_mer_mod_1(k):\n",
    "    k_mers = []\n",
    "    total = 4**k\n",
    "    i = 0\n",
    "    while i < total:\n",
    "        k_mer = ''\n",
    "        for j in range(k):\n",
    "            k_mer = alphabet[(i/4**j) % 4]+ k_mer\n",
    "        k_mers.append(k_mer)\n",
    "        i += 1\n",
    "    return k_mers\n",
    "\n",
    "\n",
    "\n",
    "## Does initializing the list of k_mers help?\n",
    "def k_mer_mod_2(k):\n",
    "    k_mers = [''] * 4**k\n",
    "    for i in range(4**k):\n",
    "        k_mer = ''\n",
    "        for j in range(k):\n",
    "            k_mer = alphabet[(i/4**j) % 4] + k_mer\n",
    "        k_mers[i] = k_mer\n",
    "    return k_mers\n",
    "\n",
    "\n",
    "## What's faster? element assignment or hashing?\n",
    "def k_mer_mod_set(k):\n",
    "    k_mers = set() \n",
    "    for i in range(4**k):\n",
    "        k_mer = ''\n",
    "        for j in range(k):\n",
    "            k_mer = alphabet[(i/4**j) % 4] + k_mer\n",
    "        k_mers.add(k_mer)\n",
    "    return list(k_mers)\n",
    "\n",
    "\n",
    "## does creating the string up front help?\n",
    "#def k_mer_mod_3(k):\n",
    "#n    k_mers = []\n",
    "#    k_mer = \"N\" * k    \n",
    "#    for i in range(4**k):\n",
    "#        for j in range(k):\n",
    "#            k_mer[j] = alphabet[(i/4**j) % 4]\n",
    "#        k_mers.append(k_mer)\n",
    "#    return k_mers\n",
    "# Nope! String are immutable, dummy!\n",
    "\n",
    "\n",
    "# maybe we can do something tricky with string substitution\n",
    "def k_mer_mod_ssub(k):\n",
    "    template = \"\\%s\" * k\n",
    "    k_mers = []\n",
    "\n",
    "    for i in range(4**k):\n",
    "        k_mer = []\n",
    "        for j in range(k):\n",
    "            k_mer.append(alphabet[(i/4**j) % 4])\n",
    "        k_mers.append(template % k_mer)\n",
    "    return k_mers\n",
    "\n",
    "\n",
    "# what about using a list?\n",
    "def k_mer_mod_4(k):\n",
    "    k_mers = [''] * 4**k\n",
    "    k_mer = [''] * k\n",
    "    \n",
    "    for i in range(4**k):\n",
    "        for j in range(k):\n",
    "            k_mer[j] = alphabet[(i/4**j) % 4]\n",
    "        k_mers[i] = \"\".join(k_mer)\n",
    "    return k_mers\n",
    "\n",
    "## recursive version\n",
    "def k_mer_recursive(k):\n",
    "    if k == 0:\n",
    "        return ['']\n",
    "    else:\n",
    "        k_mers = []\n",
    "        for k_mer in k_mer_recursive(k-1):\n",
    "            for n in alphabet:\n",
    "                k_mers.append(\"%s%s\" % (k_mer, n))\n",
    "        return k_mers\n",
    "\n",
    "             \n",
    "## That works, but what I wanted to be like, really obnoxious about it\n",
    "def k_mer_recursive_2(k):\n",
    "    if k == 0:\n",
    "        return ['']\n",
    "    else:\n",
    "        k_mers = []\n",
    "        [[k_mers.append(\"%s%s\" % (k_mer, n)) for n in alphabet] for k_mer in k_mer_recursive_2(k-1)]\n",
    "        return k_mers\n",
    "\n",
    "# using list instead of strings to store the k_mers\n",
    "def k_mer_recursive_3(k, j = False):\n",
    "    if k == 0:\n",
    "        return [[]]\n",
    "    else:\n",
    "        k_mers = []\n",
    "        [[k_mers.append((k_mer + [n])) if j else k_mers.append(\"\".join(k_mer + [n])) for n in alphabet] for k_mer in k_mer_recursive_3(k-1, True)]\n",
    "        return k_mers\n",
    "\n",
    "## stochastic (I have a good feeling about this one!)\n",
    "def k_mer_s(k):\n",
    "    s = set()\n",
    "    i = 0\n",
    "    while i < 4**k:\n",
    "        k_mer = ''\n",
    "        for j in range(k):\n",
    "            k_mer = k_mer + random.choice(alphabet)\n",
    "        if k_mer not in s:\n",
    "            s.add(k_mer)\n",
    "            i += 1\n",
    "    return list(s)\n",
    "\n",
    "\n",
    "## I sure hope this works because now we're pretty much cheating\n",
    "import array\n",
    "def k_mer_mod_array(k):\n",
    "\n",
    "    k_mers = [] \n",
    "    k_mer = array.array('c', ['N'] * k)\n",
    "    \n",
    "    for i in range(4**k):\n",
    "        for j in range(k):\n",
    "            k_mer[j] = alphabet[(i/4**j) % 4]\n",
    "        k_mers.append(\"\".join(k_mer))\n",
    "    return k_mers\n",
    "## That could have gone better. "
   ]
  },
  {
   "cell_type": "markdown",
   "metadata": {},
   "source": [
    "---\n",
    "\n",
    "---\n",
    "## Extra problems (0pts)\n"
   ]
  },
  {
   "cell_type": "markdown",
   "metadata": {},
   "source": [
    "**(A)** Create a function that counts the number of occurences of each nt in a specified string. Your function should accept a nucleotide string as a parameter, and should return a dictionary with the counts of each nucleotide (where the nt is the key and the count is the value)."
   ]
  },
  {
   "cell_type": "code",
   "execution_count": 26,
   "metadata": {
    "collapsed": true
   },
   "outputs": [],
   "source": [
    "def nt_counts(seq):\n",
    "    counts = {}\n",
    "    for nt in seq:\n",
    "        if nt not in counts:\n",
    "            counts[nt] = 1\n",
    "        else:\n",
    "            counts[nt] += 1\n",
    "    \n",
    "    return counts"
   ]
  },
  {
   "cell_type": "code",
   "execution_count": 27,
   "metadata": {
    "collapsed": false
   },
   "outputs": [
    {
     "data": {
      "text/plain": [
       "{'A': 5, 'C': 1, 'G': 4, 'T': 7}"
      ]
     },
     "execution_count": 27,
     "metadata": {},
     "output_type": "execute_result"
    }
   ],
   "source": [
    "nt_counts(\"AAAAATTTTTTTGGGGC\")"
   ]
  },
  {
   "cell_type": "markdown",
   "metadata": {},
   "source": [
    "**(B)** Create a function that generates a random nt sequence of a specified length with specified nt frequencies. Your function should accept as parameters: \n",
    "- a length\n",
    "- a dictionary of nt frequences.\n",
    "\n",
    "and should return the generated string. You'll need to figure out a way to use the supplied frequencies to generate the sequence.\n",
    "\n",
    "An example of the nt freq dictionary could be: {'A':0.60, 'G':0.10, 'C':0.25, 'T':0.05}"
   ]
  },
  {
   "cell_type": "code",
   "execution_count": 30,
   "metadata": {
    "collapsed": true
   },
   "outputs": [],
   "source": [
    "def generate_nucleotide(length, freqs):\n",
    "    import random\n",
    "    seq = \"\"\n",
    "    samplingStr = \"\"\n",
    "    \n",
    "    # maybe not the best way to do this, but fun:\n",
    "    # create a list with the indicated freq of nt\n",
    "    for nt in freqs:\n",
    "        occurPer1000 = int(1000*freqs[nt])\n",
    "        samplingStr += nt*occurPer1000\n",
    "    samplingList = list(samplingStr)\n",
    "\n",
    "    # sample from the list\n",
    "    for i in range(length):\n",
    "        newChar = random.choice(samplingList)\n",
    "        seq += newChar\n",
    "\n",
    "    return seq"
   ]
  },
  {
   "cell_type": "code",
   "execution_count": 31,
   "metadata": {
    "collapsed": false
   },
   "outputs": [
    {
     "data": {
      "text/plain": [
       "'ACAAAACTGCAACAAGACACAAACACGACACAAAAACAAAACACGCAAAAAAAAAAAACACCAAAGCTAAACCAACCAAATTGAAAAAAAGCAGAAAAAA'"
      ]
     },
     "execution_count": 31,
     "metadata": {},
     "output_type": "execute_result"
    }
   ],
   "source": [
    "generate_nucleotide(100, {'A':0.60, 'G':0.10, 'C':0.25, 'T':0.05})"
   ]
  },
  {
   "cell_type": "code",
   "execution_count": 35,
   "metadata": {
    "collapsed": false
   },
   "outputs": [
    {
     "name": "stdout",
     "output_type": "stream",
     "text": [
      "A 0.5941\n",
      "C 0.2568\n",
      "T 0.0457\n",
      "G 0.1034\n"
     ]
    }
   ],
   "source": [
    "# let's check if it's really working\n",
    "n = 10000\n",
    "testSeq = generate_nucleotide(n, {'A':0.60, 'G':0.10, 'C':0.25, 'T':0.05})\n",
    "obsCounts = nt_counts(testSeq)\n",
    "for nt in obsCounts:\n",
    "    print nt, float(obsCounts[nt]) / n"
   ]
  },
  {
   "cell_type": "markdown",
   "metadata": {},
   "source": [
    "Looks good!"
   ]
  }
 ],
 "metadata": {
  "anaconda-cloud": {},
  "kernelspec": {
   "display_name": "Python [Root]",
   "language": "python",
   "name": "Python [Root]"
  },
  "language_info": {
   "codemirror_mode": {
    "name": "ipython",
    "version": 2
   },
   "file_extension": ".py",
   "mimetype": "text/x-python",
   "name": "python",
   "nbconvert_exporter": "python",
   "pygments_lexer": "ipython2",
   "version": "2.7.12"
  }
 },
 "nbformat": 4,
 "nbformat_minor": 0
}
