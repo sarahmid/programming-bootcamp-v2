{
 "cells": [
  {
   "cell_type": "markdown",
   "metadata": {},
   "source": [
    "# Programming Bootcamp 2016\n",
    "# Lesson 7 Exercises - ANSWERS\n",
    "---"
   ]
  },
  {
   "cell_type": "markdown",
   "metadata": {},
   "source": [
    "---\n",
    "## 1. Creating your function file (1pt)\n",
    "\n",
    "Up until now, we've created all of our functions inside the Jupyter notebook. However, in order to use your functions across different scripts, it's best to put them into a separate file. Then you can load this file from anywhere with a single line of code and have access to all your custom functions!\n",
    "\n",
    "**Do the following:**\n",
    "- Open up your plain-text editor. \n",
    "- Copy and paste all of the functions you created in lab6, question 3, into a blank file and save it as **my_utils.py** (don't forget the .py extension). Save it anywhere on your computer.\n",
    "- Edit the code below so that it imports your `my_utils.py` functions. You will need to change `'../utilities/my_utils.py'` to where you saved your file. \n",
    "\n",
    "Some notes:\n",
    "- You need to supply the path *relative to where this notebook is*. See the slides for some examples on how to specify paths.\n",
    "- You can use this method to import your functions from *anywhere* on your computer! In contrast, the regular `import` function will only find custom functions that are in the same directory as the current notebook/script."
   ]
  },
  {
   "cell_type": "code",
   "execution_count": 3,
   "metadata": {
    "collapsed": false,
    "scrolled": true
   },
   "outputs": [
    {
     "name": "stdout",
     "output_type": "stream",
     "text": [
      "Test my_utils.gc(): 0.62\n",
      "Test my_utils.reverse_compl(): TTTGAATTTGCATCGACCCC\n",
      "Test my_utils.read_fasta(): {'varlen2_uc007xie.1_4456': 'ACACCGGCTGAAACAGCTGGCAGCACCACAGGCCCAGCTGTAAGCACAACCTCTGCTGGTTCCACATCTGCAAGAGCCGCCACCACCTCCCCAGGAGGTT', 'varlen2_uc010mlp.1_79': 'CCGCGCAGCGCCTACCCTTTCCTCGCTCCGGGCCGGCAGTGTGGGGCGGCGCGCTGGGGGCGCGGCGTGTCTGGGGACATCTTGTGATGTTGGCGAGAACAGGACATGATCTCACATGGCGAGAAGCTCTTTAGTTCCTTAATCATTTCACGGTGCCTTCGGACGCTTTTTTTCCACCTAAAACGTTTAGTTTCAGCTCAGTGATCAG', 'varlen2_uc009bxt.1_1728': 'AGAAGAAGGTTTTTATGAGTTAATTTTACCCATAAATATTTCAGTAATTTTGGAGTGGAAGTTGGGTTGCTAACATCAGAGCTCATGTTCATGTTTTAGAAGCCCTTTCTTTCTAGGTGTCTCTCAAAAGACTGGCTTAATTGGAATAAAATAGCTTTTTTTTTTTAAGTGTCCCAAAGATAAGATATCTTGGGGTCCACCATGAGCTTCCAGTTTCAGCCGAGGCAGCAGTTTTCCTGGGATAATTAGCCAAGGGTTCCCCAGAGTCTTCCTAGGTATCTCTGGGAACCAGCAGAAGGAATTTTCACCTA', 'varlen2_uc009div.2_242': 'CCAACGGTCATCAAGAGAAGTGCGCCTTCCTCCTCAAACCGACGCGAGGGACGTTCCTTAGGGGT', 'varlen2_uc003its.2_2976': 'CGCCCACCTGGATGTCCCAAAGTGCTAGATTCCATGGAATTTTCCTGCATGGAGTGCTACATCCTCTTGTTCCAGTCTCAGCTGGCTGCTCCGTGGGCATACTTCATACCTTTCATCACAGAGCTTTGCTTGGCCTCTCTCCTGTGTGTAATCTCTGTTTCTTGGATCCTGTGCTTACC', 'varlen2_uc003nvg.4_2466': 'CTCGGGCTGGCAGCAGTGAAAGTATTGCT', 'varlen2_uc029ygd.1_73': 'AGAAGAATGGCTCTTAAGAAATTGAAGGTGATAC', 'varlen2_uc007kxx.1_2963': 'TGTGTACAAAGATCAAATATCAGTATTGCCAAATGAACAAGACCTTGCGAGAGAAGAAGCTCAGAAAAT', 'varlen2_uc009wph.3_423': 'AAGGGGGTTTTCTGGGCCTCTCCAATATTAAGTTCAGGCCAGGATCTGTGGTGGTACAATTGACTCTGGCCTTCCGAGAAGGTAC', 'varlen2_uc010osx.2_1007': 'CAAATTTGATGGGAAGAGGTTCCAGAATGTTGTCAAGGAAGGAATGAAGTTTGATAAAAGTGAGAAAACTAAGGAGAGTCATGAAGCAGTTGAGAAAGAATTTGAGCCTCTGCTCAATTGGATGAAAGATAAAGCCCTTAAGGACAAAATTGAGAAGGCTGTGGTGTCTCAGCACCTGACAGAATCTCTGTGTGCTTTG', 'varlen2_uc001agr.3_7': 'TCGCTGCGCTGGGCCTCTCGGCGGTCCCCCCCACCCGGGTCCCGGGCCC', 'varlen2_uc001pmn.3_3476': 'TCTTACTATTATGTGGAATTTAACTTTTCAGAGAAAATTTCCAAAGTCCTCTACCTTATTTGGCTTTTATCTGTGTCTTTTGGAAAAGGAGCTGCATGGCCTCAGTGCCTCCATAAAAAGCTTAAGTTGAGTTCATGGGAGAACATTAAGATCGTTTTTTTTCCCTTTTAGCTCGGTAATCTCATGTACCACAGGTAATGACCAAGCATCTCTGCTAGAGGATGTAACTCTCATAACTCCTGTGTAAAATGAGGATCCTGTTGGTGATCCTCATTCCAGTTTCCAAAGC', 'varlen2_uc003khi.3_3': 'CACTATGTGCTTCCGGTCTCCAATACCGCAGGAGGGCGGTCTTCCCCGGCTCGCCAACTCGGCTGCTCTGGGGGATTCGTGCGCGGTACCACTGATGAAATTATGACCAGGTGGGCCCGAGTTAGTACCACATATAACAAGAGACCCTTGCCTGCAACATCATGGGAGGACATGAAGAAGGGATCCTTTGAGGGAACAAGCCAAAACCTACCAAAGCGTAAACAACTTGAAGCCAATAGGCTATCCCTCAAAAATGATGCACCCCAAGCAAAACATAAAAAGAACAAAAAGAAAAAAGAGTACTTAAATGAAGATGTGAATGGATTCATGGAATACCTAAGACAGAATTCACAGATGGTTCACAATGGGCAAATTATAGCAACAGACAGTGAGGAAGTAAGGGAAGAAATTGCAGTTGCTTTAAAGAAAGACAGTCGACGGGAAGGAAGAAGATTAAAA', 'varlen2_uc021qfk.1>2_1472': 'CCTTGGATAAGGAAATTACATCAGCAAATTATGCTGGTGTCTGTACATCATCTGTGATTAAAGAAGAAAACATTGA', 'varlen2_uc011moe.2_5914': 'CTGAGGTCTAACATTGTTATCCTATATCATTTTCATCCCAAGTAGTGATATCTGTGAAATCACAGGTTTGATGTGTGCTAATTATGTATTCTTCTAATACATATTAAAAGACATAACTATCAAAACAAAATAAATTTGTCTGTTTTCAACCAAAGAAGTCACGTACCACTGGTGGTACTGTGTGCCATAATTTGGCAAATGCTGGCCTTTATGGACGAGCACAATTCGGGGGTCAGACCTGGTTCAAATTCTAGCTGTAGAAACTTGTGCAAGTTACTTCACCTCTGAGCCTAAGTTTCCACATCTGTAAAAGGAGATAATAAACACCTACCTTGCAGTAGTGAAGCAAAGAGAAAATTAAATATATATGAAG', 'varlen2_uc003hyy.2_273': 'CCACTCTGGAAATCTT', 'varlen2_uc007nte.2_374': 'GGACTGACCTCTGTCTTCCAGATTCAAGTGCTACTGCTTTCTCAGCTTCTGGAGATGGTGTAGTTTCAAGAAACCAGAGTTTCCTGAGAACTGCAATTCAAAGGACACCTCATGAAGTAATGAGAAGAGAAAGCCACAGACTGTCTGCCCCTTCTTACCTTGTCAGGAGCCTAGCAGATGTCCCTCGAGAGTGTGGCTCATCACAGTCATTTTTGACAGAAGTTAACTTTGCTGTTGAGAATGGAGACTCTGGCTCCCGATACTTCTTCTCAGATAACTTTTTTGATGGACAGAGAAGGCGGCCACTTGGAGATCGTGCACAAGAAGATTACAGATATTATGAATACAACCATGATCTCTTCCAGAGGATGCCACAGAGTCAGGGGAGGCACACTTCAGGTATTGGGAGAGTCACGGCTACATCTCTAGGGAATTTAACTAACCATGG', 'varlen2_uc007fws.1_377': 'AAACCAGTCCCGGAAAGG', 'varlen2_uc003pij.1_129': 'GATTTTATTATGGCAGAAGTCAATTT', 'varlen2_uc002wkt.1_1569': 'AGGCTCAGCCCGCTGGAGCATGAGCTCTGTGTGTACCGAGAACTGGGGTGATGTTTTACTTTTCACAGTATGGGCTACACAGCAGCTGTTCA', 'varlen2_uc010suq.2_3895': 'TAAGATGTCAGTATTCTCCTCATGGATATTTTCAGTCTCAATGTTGCCAGTCTAATAGTATAGTATGTGGTTGCTTTACTGCTGTTCTCCCCACCCCCGTGGAGTTGTGTCATTATTTTAATGAATGTGAGCTCTTGACTTACTCTAGAATTCTAATACAGATACTTTCTGCACTAGTATCACTTTTATTATTGCAGTTCCATTTAAAAGCATAACTGGCTAAGTCACCGCCCCACCCGCCGCATTACATTTCCTAAAACATACTGCTGCCAAAGACCAACTGTAGAATCCTTAAGTCCTGTTCAAGTGTCACTTCATTTTTTATTAGGGGTTTCTTAGTTGGAGGGCATGAGAAACTTGGCCCTTTCCAATGTTGTCTTCACATTGGAGTATAAGAATTCTCTATAGGACTCTTTAATTTTTTTTTTTTTTTGGTAGAGATGGGGTCTTGCTGTGTTGCCCAGGCTGGTCTCAAACTCCTAGGCTTAAGC', 'varlen2_uc003yos.2_1634': 'CCATCAGGAAAATGCTTTTTCCAGGGAGACCACGGATTTGATAACAAGGTCAACAGCATGCAGACTGTTTTTGTAGGTTATGGCTCAACATTTAAGTACAAGACTAAAGTGCCTCCATTTGAAAACATTGAACTTTACAATGTTATGTGTGATCTCCTGGGATTGAAGCCAGCTCCTAATAATGGGACCCATGGAAGTTTGAATCATCTCCTGCGCACTAATACCTTCAGGCCAACCATGC'}\n",
      "Test my_utils.rand_seq(): CCACCTAATCCCACCAACATACA\n",
      "Test my_utils.shuffle_nt(): TAGCAATCAATAC\n",
      "\n",
      "If the above produced no errors, then you're good!\n"
     ]
    }
   ],
   "source": [
    "import imp\n",
    "my_utils = imp.load_source('my_utils', '../utilities/my_utils.py') #CHANGE THIS PATH\n",
    "\n",
    "# test that this worked\n",
    "print \"Test my_utils.gc():\", my_utils.gc(\"ATGGGCCCAATGG\")\n",
    "print \"Test my_utils.reverse_compl():\", my_utils.reverse_compl(\"GGGGTCGATGCAAATTCAAA\")\n",
    "print \"Test my_utils.read_fasta():\", my_utils.read_fasta(\"horrible.fasta\")\n",
    "print \"Test my_utils.rand_seq():\", my_utils.rand_seq(23)\n",
    "print \"Test my_utils.shuffle_nt():\", my_utils.shuffle_nt(\"AAAAAAGTTTCCC\")\n",
    "\n",
    "print \"\\nIf the above produced no errors, then you're good!\""
   ]
  },
  {
   "cell_type": "markdown",
   "metadata": {},
   "source": [
    "Feel free to use these functions (and any others you've created) to solve the problems below. You can see in the test code above how they can be accessed."
   ]
  },
  {
   "cell_type": "markdown",
   "metadata": {},
   "source": [
    "---\n",
    "## 2. Command line arguments (6pts)\n",
    "\n",
    "**Note: Do the following in a SCRIPT, not in the notebook**. You can not use command line arguments within Jupyter notebooks.\n",
    "\n",
    "After testing your code as a script, copy and paste it here for grading purposes only."
   ]
  },
  {
   "cell_type": "markdown",
   "metadata": {},
   "source": [
    "**(A)** Write a script that expects 4 arguments, and prints those four arguments to the screen. Test this script by running it (on the command line) as shown in the lecture. Copy and paste the code below once you have it working."
   ]
  },
  {
   "cell_type": "code",
   "execution_count": null,
   "metadata": {
    "collapsed": true
   },
   "outputs": [],
   "source": [
    "import sys\n",
    "\n",
    "print sys.argv[1]\n",
    "print sys.argv[2]\n",
    "print sys.argv[3]\n",
    "print sys.argv[4]"
   ]
  },
  {
   "cell_type": "markdown",
   "metadata": {},
   "source": [
    " "
   ]
  },
  {
   "cell_type": "markdown",
   "metadata": {},
   "source": [
    "**(B)** Write a script that expects 3 numerical arguments (\"a\", \"b\", and \"c\") from the command line.\n",
    "- Check that the correct number of arguments is supplied (based on the length of sys.argv)\n",
    "- If not, print an error message and exit\n",
    "- Otherwise, go on to add the three numbers together and print the result. \n",
    "\n",
    "Copy and paste your code below once you have it working.\n",
    "\n",
    "**Note: All command line arguments are read in as strings (just like with raw_input). To use them as numbers, you must convert them with float().**"
   ]
  },
  {
   "cell_type": "code",
   "execution_count": null,
   "metadata": {
    "collapsed": true
   },
   "outputs": [],
   "source": [
    "import sys\n",
    "\n",
    "if len(sys.argv) == 4:\n",
    "    a = float(sys.argv[1])\n",
    "    b = float(sys.argv[2])\n",
    "    c = float(sys.argv[3])\n",
    "else: \n",
    "    print \"Incorrect args. Please enter three numbers.\"\n",
    "    sys.exit()\n",
    "\n",
    "print a + b + c"
   ]
  },
  {
   "cell_type": "markdown",
   "metadata": {},
   "source": [
    " "
   ]
  },
  {
   "cell_type": "markdown",
   "metadata": {},
   "source": [
    "**(C)** Here you will create a script that generates a random dataset of sequences. \n",
    "\n",
    "**Your script should expect the following command line arguments, in this order. Remember to convert strings to ints when needed:**\n",
    "1. outFile - string; name of the output file the generated sequences will be printed to\n",
    "1. numSeqs - integer; number of sequences to create\n",
    "1. minLength - integer; minimum sequence length\n",
    "1. maxLength - integer; maximum sequence length\n",
    "\n",
    "The script should read in these arguments and check if the correct number of arguments is supplied (exit if not). \n",
    "\n",
    "**If all looks good, then print the indicated number of randomly generated sequences as follows:**\n",
    "- the length of each individual sequence should be randomly chosen to be between minLength and maxLength (so that not all sequences are the same length)\n",
    "- each sequence should be given a unique ID (e.g. using a counter to make names like seq1, seq2, ...)\n",
    "- the output should be in fasta format (>seqID\\nsequence\\n)\n",
    "- the output shold be printed to the indicated file\n",
    "\n",
    "Then, run your script to create a file called `fake.fasta` containing 100,000 random sequences of random length 50-500 nt.\n",
    "\n",
    "Copy and paste your code below once you have it working."
   ]
  },
  {
   "cell_type": "code",
   "execution_count": null,
   "metadata": {
    "collapsed": true
   },
   "outputs": [],
   "source": [
    "import sys, random, imp\n",
    "my_utils = imp.load_source('my_utils', '../utilities/my_utils.py')\n",
    "\n",
    "if len(sys.argv) == 5:\n",
    "    outFile = sys.argv[1]\n",
    "    numSeqs = int(sys.argv[2])\n",
    "    minLength = int(sys.argv[3])\n",
    "    maxLength = int(sys.argv[4])\n",
    "else: \n",
    "    print \"Incorrect args. Please enter an outfile, numSeqs, minLength, maxLength.\"\n",
    "    sys.exit()\n",
    "\n",
    "outs = open(outFile, 'w')\n",
    "for i in range(numSeqs):\n",
    "    randLen = random.randint(minLength, maxLength)\n",
    "    randSeq = my_utils.rand_seq(randLen)\n",
    "    seqName = \"seq\" + str(i)\n",
    "    outs.write(\">\" + seqName + \"\\n\" + randSeq + \"\\n\")\n",
    "\n",
    "outs.close()"
   ]
  },
  {
   "cell_type": "markdown",
   "metadata": {},
   "source": [
    "---\n",
    "## 3. `time` practice (7pts)\n",
    "\n",
    "For the following problems, use the file you created in the previous problem (`fake.fasta`) and the `time.time()` function. (Note: there is also a copy of `fake.fasta` on Piazza if you need it.)\n",
    "\n",
    "**Note: Do not include the time it takes to read the file in your time calculation! Loading files can take a while.**"
   ]
  },
  {
   "cell_type": "markdown",
   "metadata": {},
   "source": [
    "**(A) Initial practice with timing.** Add code to the following cell to time how long it takes to run. Print the result."
   ]
  },
  {
   "cell_type": "code",
   "execution_count": 1,
   "metadata": {
    "collapsed": false
   },
   "outputs": [
    {
     "name": "stdout",
     "output_type": "stream",
     "text": [
      "6.65499997139\n"
     ]
    }
   ],
   "source": [
    "import time\n",
    "\n",
    "start = time.time()\n",
    "\n",
    "sillyList = []\n",
    "for i in range(50000):\n",
    "    sillyList.append(sum(sillyList))\n",
    "\n",
    "end = time.time()\n",
    "\n",
    "print end - start"
   ]
  },
  {
   "cell_type": "markdown",
   "metadata": {},
   "source": [
    " "
   ]
  },
  {
   "cell_type": "markdown",
   "metadata": {},
   "source": [
    "**(B) Counting characters.** Is it faster to use the built-in function `str.count()` or to loop through a string and count characters manually? Compare the two by counting all the A's in all the sequences in `fake.fasta` using each method and comparing how long they take to run. \n",
    "\n",
    "(You do not need to output the counts)"
   ]
  },
  {
   "cell_type": "code",
   "execution_count": 4,
   "metadata": {
    "collapsed": false
   },
   "outputs": [
    {
     "name": "stdout",
     "output_type": "stream",
     "text": [
      "2.55799984932\n"
     ]
    }
   ],
   "source": [
    "# Method 1 (Manual counting)\n",
    "seqDict = my_utils.read_fasta(\"fake.fasta\")\n",
    "\n",
    "start = time.time()\n",
    "\n",
    "for seqID in seqDict:\n",
    "    seq = seqDict[seqID]\n",
    "    count = 0\n",
    "    for char in seq:\n",
    "        if char == \"A\":\n",
    "            count += 1\n",
    "            \n",
    "end = time.time()\n",
    "print end - start"
   ]
  },
  {
   "cell_type": "code",
   "execution_count": 5,
   "metadata": {
    "collapsed": false
   },
   "outputs": [
    {
     "name": "stdout",
     "output_type": "stream",
     "text": [
      "0.111999988556\n"
     ]
    }
   ],
   "source": [
    "# Method 2 (.count())\n",
    "seqDict = my_utils.read_fasta(\"fake.fasta\")\n",
    "\n",
    "start = time.time()\n",
    "\n",
    "for seqID in seqDict:\n",
    "    seq = seqDict[seqID]\n",
    "    count = seq.count(\"A\")\n",
    "            \n",
    "end = time.time()\n",
    "print end - start"
   ]
  },
  {
   "cell_type": "markdown",
   "metadata": {},
   "source": [
    "*Which was faster?* **Method 2, str.count()**"
   ]
  },
  {
   "cell_type": "markdown",
   "metadata": {},
   "source": [
    " "
   ]
  },
  {
   "cell_type": "markdown",
   "metadata": {},
   "source": [
    "**(C) Replacing characters.** Is it faster to use the built-in function `str.replace()` or to loop through a string and replace characters manually? Compare the two by replacing all the T's with U's in all the sequences in `fake.fasta` using each method, and comparing how long they take to run. \n",
    "\n",
    "(You do not need to output the edited sequences)"
   ]
  },
  {
   "cell_type": "code",
   "execution_count": 6,
   "metadata": {
    "collapsed": false
   },
   "outputs": [
    {
     "name": "stdout",
     "output_type": "stream",
     "text": [
      "5.87399983406\n"
     ]
    }
   ],
   "source": [
    "# Method 1 (Manual replacement)\n",
    "seqDict = my_utils.read_fasta(\"fake.fasta\")\n",
    "\n",
    "start = time.time()\n",
    "\n",
    "for seqID in seqDict:\n",
    "    seq = seqDict[seqID]\n",
    "    newSeq = \"\"\n",
    "    for char in seq:\n",
    "        if char == \"T\":\n",
    "            newSeq += \"U\"\n",
    "        else:\n",
    "            newSeq += char\n",
    "            \n",
    "end = time.time()\n",
    "print end - start"
   ]
  },
  {
   "cell_type": "code",
   "execution_count": 7,
   "metadata": {
    "collapsed": false
   },
   "outputs": [
    {
     "name": "stdout",
     "output_type": "stream",
     "text": [
      "0.12700009346\n"
     ]
    }
   ],
   "source": [
    "# Method 2 (.replace())\n",
    "seqDict = my_utils.read_fasta(\"fake.fasta\")\n",
    "\n",
    "start = time.time()\n",
    "\n",
    "for seqID in seqDict:\n",
    "    seq = seqDict[seqID]\n",
    "    newSeq = seq.replace(\"T\", \"U\")\n",
    "            \n",
    "end = time.time()\n",
    "print end - start"
   ]
  },
  {
   "cell_type": "markdown",
   "metadata": {},
   "source": [
    "*Which was faster?* **Method 2, str.replace()**"
   ]
  },
  {
   "cell_type": "markdown",
   "metadata": {},
   "source": [
    " "
   ]
  },
  {
   "cell_type": "markdown",
   "metadata": {},
   "source": [
    "**(D) Lookup speed in data structures.** Is it faster to get unique IDs using a list or a dictionary? Read in `fake.fasta`, ignoring everything but the header lines. Count the number of unique IDs (headers) using a list or dictionary, and compare how long each method takes to run. \n",
    "\n",
    "Be patient; this one might take a while to run!"
   ]
  },
  {
   "cell_type": "code",
   "execution_count": 8,
   "metadata": {
    "collapsed": false
   },
   "outputs": [
    {
     "name": "stdout",
     "output_type": "stream",
     "text": [
      "101.358999968\n"
     ]
    }
   ],
   "source": [
    "# Method 1 (list)\n",
    "seqDict = my_utils.read_fasta(\"fake.fasta\")\n",
    "\n",
    "uniqueIDs = []\n",
    "start = time.time()\n",
    "\n",
    "for seqID in seqDict:\n",
    "    if seqID not in uniqueIDs:\n",
    "        uniqueIDs.append(seqID)\n",
    "            \n",
    "end = time.time()\n",
    "print end - start"
   ]
  },
  {
   "cell_type": "code",
   "execution_count": 9,
   "metadata": {
    "collapsed": false
   },
   "outputs": [
    {
     "name": "stdout",
     "output_type": "stream",
     "text": [
      "0.0309998989105\n"
     ]
    }
   ],
   "source": [
    "# Method 2 (dictionary)\n",
    "seqDict = my_utils.read_fasta(\"fake.fasta\")\n",
    "\n",
    "uniqueIDs = {}\n",
    "start = time.time()\n",
    "\n",
    "for seqID in seqDict:\n",
    "    if seqID not in uniqueIDs:\n",
    "        uniqueIDs[seqID] = True\n",
    "            \n",
    "end = time.time()\n",
    "print end - start"
   ]
  },
  {
   "cell_type": "markdown",
   "metadata": {},
   "source": [
    "*Which was faster?* **Method 2, dictionary**"
   ]
  },
  {
   "cell_type": "markdown",
   "metadata": {},
   "source": [
    " "
   ]
  },
  {
   "cell_type": "markdown",
   "metadata": {},
   "source": [
    "If you're curious, below is a brief explanation of the outcomes you should have observed:\n",
    "\n",
    "> (B) The built-in method should be much faster! Most built in functions are pretty well optimized, so they will often (but not always) be faster.\n",
    "\n",
    "> (C) Again, the built in function should be quite a bit faster.\n",
    "\n",
    "> (D) If you did this right, then the dictionary should be faster by several orders of magnitude. When you use a dictionary, Python jumps directly to where the requested key *should* be, if it were in the dictionary. This is very fast (it's an O(1) operation, for those who are familiar with the terminology). With lists, on the other hand, Python will scan through the whole list until it finds the requested element (or until it reaches the end). This gets slower and slower on average as you add more elements (it's an O(n) operation). Just something to keep in mind if you start working with very large datasets!\n",
    " "
   ]
  },
  {
   "cell_type": "markdown",
   "metadata": {},
   "source": [
    "---\n",
    "## 4. `os` and `glob` practice (6pts)\n",
    "\n",
    "Use `horrible.fasta` as a test fasta file for the following."
   ]
  },
  {
   "cell_type": "markdown",
   "metadata": {},
   "source": [
    "**(A)** Write code that prompts the user (using `raw_input()`) for two pieces of information: an input file name (assumed to be a fasta file) and an output folder name (does not need to already exist). Then do the following:\n",
    "- Check if the input file exists\n",
    "- If it doesn't, print an error message\n",
    "- Otherwise, go on to check if the output folder exists\n",
    "- If it doesn't, create it"
   ]
  },
  {
   "cell_type": "markdown",
   "metadata": {},
   "source": [
    "> Note: I did this below with command line args instead of raw_input() to give more examples of using args"
   ]
  },
  {
   "cell_type": "code",
   "execution_count": null,
   "metadata": {
    "collapsed": true
   },
   "outputs": [],
   "source": [
    "import sys, os\n",
    "\n",
    "# read in command line args\n",
    "if len(sys.argv) == 3:\n",
    "    inputFile = sys.argv[1]\n",
    "    outputFolder = sys.argv[2]\n",
    "else:\n",
    "    print \">>Error: Incorrect args. Please provide an input file name and an output folder. Exiting.\"\n",
    "    sys.exit()\n",
    "\n",
    "# check if input file / output directory exist\n",
    "if not os.path.exists(inputFile):\n",
    "    print \">>Error: input file (%s) does not exist. Exiting.\" % inputFile\n",
    "    sys.exit()\n",
    "    \n",
    "if not os.path.exists(outputFolder):\n",
    "    print \"Creating output folder (%s)\" % outputFolder\n",
    "    os.mkdir(outputFolder)"
   ]
  },
  {
   "cell_type": "markdown",
   "metadata": {},
   "source": [
    " "
   ]
  },
  {
   "cell_type": "markdown",
   "metadata": {},
   "source": [
    "**(B)** Add to the code above so that it also does the following after creating the output folder:\n",
    "- Read in the fasta file (**ONLY** if it exists) \n",
    "- Print each individual sequence to a separate file **in the specified output folder**. \n",
    "- The files should be named `<SEQID>.fasta`, where `<SEQID>` is the name of the sequence (from the fasta header)"
   ]
  },
  {
   "cell_type": "code",
   "execution_count": null,
   "metadata": {
    "collapsed": true
   },
   "outputs": [],
   "source": [
    "import sys, os, my_utils\n",
    "\n",
    "# read in command line args\n",
    "if len(sys.argv) == 3:\n",
    "    inputFile = sys.argv[1]\n",
    "    outputFolder = sys.argv[2]\n",
    "else:\n",
    "    print \">>Error: Incorrect args. Please provide an input file name and an output folder. Exiting.\"\n",
    "    sys.exit()\n",
    "\n",
    "# check if input file / output directory exist\n",
    "if not os.path.exists(inputFile):\n",
    "    print \">>Error: input file (%s) does not exist. Exiting.\" % inputFile\n",
    "    sys.exit()\n",
    "    \n",
    "if not os.path.exists(outputFolder):\n",
    "    print \"Creating output folder (%s)\" % outputFolder\n",
    "    os.mkdir(outputFolder)\n",
    "    \n",
    "# read in sequences from fasta file & print to separate output files\n",
    "# you'll get an error for one of them because there's a \">\" in the sequence id,\n",
    "# which is not allowed in a file name. you can handle this however you want.\n",
    "# here I used a try-except statement and just skipped the problematic file (with a warning message)\n",
    "seqs = my_utils.read_fasta(inputFile)\n",
    "for seqID in seqs:\n",
    "    outFile = \"%s/%s.fasta\" % (outputFolder, seqID)\n",
    "    outStr = \">%s\\n%s\\n\" % (seqID, seqs[seqID])\n",
    "    \n",
    "    try:\n",
    "        outs = open(outFile, 'w')\n",
    "        outs.write(outStr)\n",
    "        outs.close()\n",
    "    except IOError:\n",
    "        print \">>Warning: Could not print (%s) file. Skipping.\" % outFile\n",
    "    "
   ]
  },
  {
   "cell_type": "markdown",
   "metadata": {},
   "source": [
    " "
   ]
  },
  {
   "cell_type": "markdown",
   "metadata": {},
   "source": [
    "**(C)** Now use `glob` to get a list of all files in the output folder from part (B) that have a .fasta extension. For each file, print just the file name (not the file path) to the screen."
   ]
  },
  {
   "cell_type": "code",
   "execution_count": null,
   "metadata": {
    "collapsed": true
   },
   "outputs": [],
   "source": [
    "import sys, glob, os\n",
    "\n",
    "# read in command line args\n",
    "if len(sys.argv) == 2:\n",
    "    folderName = sys.argv[1]\n",
    "else:\n",
    "    print \">>Error: Incorrect args. Please provide an folder name. Exiting.\"\n",
    "    sys.exit()\n",
    "\n",
    "fastaList = glob.glob(folderName + \"/*.fasta\")\n",
    "for filePath in fastaList:\n",
    "    print os.path.basename(filePath)\n"
   ]
  }
 ],
 "metadata": {
  "anaconda-cloud": {},
  "kernelspec": {
   "display_name": "Python [Root]",
   "language": "python",
   "name": "Python [Root]"
  },
  "language_info": {
   "codemirror_mode": {
    "name": "ipython",
    "version": 2
   },
   "file_extension": ".py",
   "mimetype": "text/x-python",
   "name": "python",
   "nbconvert_exporter": "python",
   "pygments_lexer": "ipython2",
   "version": "2.7.12"
  }
 },
 "nbformat": 4,
 "nbformat_minor": 0
}
